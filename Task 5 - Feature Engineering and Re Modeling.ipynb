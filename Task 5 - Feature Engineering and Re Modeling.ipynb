{
 "cells": [
  {
   "cell_type": "markdown",
   "metadata": {},
   "source": [
    "## Feature Engineering and Remodeling  \n",
    "\n",
    "#### To Do:\n",
    "\n",
    "1. Perform the required Feature Engineering (Feature Selection using RFE, Feature Transformation, etc.)\n",
    "\n",
    "2. Rebuild the models (Logistic Regression, SVM, KNN, DT, RF, Gradient Boosting, AdaBoosting etc.\n",
    "\n",
    "3. Compare the model (With Feature Engineering) Performance with previous model (Without Feature Engineering) "
   ]
  },
  {
   "cell_type": "code",
   "execution_count": 1,
   "metadata": {},
   "outputs": [],
   "source": [
    "import pandas as pd\n",
    "import numpy as np\n",
    "import warnings\n",
    "warnings.filterwarnings('ignore')"
   ]
  },
  {
   "cell_type": "code",
   "execution_count": 2,
   "metadata": {},
   "outputs": [],
   "source": [
    "X = pd.read_csv(\"C:\\\\Users\\\\saism\\\\Documents\\\\Projects\\\\ML Project\\\\1426203-Task_-_3_(Apply_Classification_Algorithm)\\\\Task - 3 (Apply Classification Algorithm)\\\\X_final.csv\")\n",
    "y = pd.read_csv(\"C:\\\\Users\\\\saism\\\\Documents\\\\Projects\\\\ML Project\\\\1426203-Task_-_3_(Apply_Classification_Algorithm)\\\\Task - 3 (Apply Classification Algorithm)\\\\y_final.csv\")\n"
   ]
  },
  {
   "cell_type": "markdown",
   "metadata": {},
   "source": [
    "### RFE"
   ]
  },
  {
   "cell_type": "code",
   "execution_count": 3,
   "metadata": {},
   "outputs": [],
   "source": [
    "from sklearn.svm import SVC\n",
    "from sklearn.feature_selection import RFE"
   ]
  },
  {
   "cell_type": "code",
   "execution_count": 4,
   "metadata": {},
   "outputs": [],
   "source": [
    "estimator = SVC(kernel=\"linear\")\n",
    "selector = RFE(estimator, n_features_to_select=10, step=1)"
   ]
  },
  {
   "cell_type": "code",
   "execution_count": 5,
   "metadata": {},
   "outputs": [],
   "source": [
    "selector = selector.fit(X, y)\n"
   ]
  },
  {
   "cell_type": "code",
   "execution_count": 6,
   "metadata": {},
   "outputs": [
    {
     "data": {
      "text/plain": [
       "array([False, False,  True,  True,  True,  True, False, False,  True,\n",
       "       False,  True,  True, False, False,  True,  True,  True, False,\n",
       "       False])"
      ]
     },
     "execution_count": 6,
     "metadata": {},
     "output_type": "execute_result"
    }
   ],
   "source": [
    "selector.support_\n"
   ]
  },
  {
   "cell_type": "code",
   "execution_count": 7,
   "metadata": {},
   "outputs": [
    {
     "data": {
      "text/plain": [
       "array([ 5,  4,  1,  1,  1,  1,  6,  7,  1,  3,  1,  1,  2,  8,  1,  1,  1,\n",
       "        9, 10])"
      ]
     },
     "execution_count": 7,
     "metadata": {},
     "output_type": "execute_result"
    }
   ],
   "source": [
    "selector.ranking_\n"
   ]
  },
  {
   "cell_type": "code",
   "execution_count": 8,
   "metadata": {},
   "outputs": [
    {
     "data": {
      "text/plain": [
       "Index(['Region_Code', 'Accomodation_Type', 'Reco_Insurance_Type', 'Upper_Age',\n",
       "       'Lower_Age', 'Is_Spouse', 'Holding_Policy_Duration',\n",
       "       'Holding_Policy_Type', 'Reco_Policy_Cat', 'Reco_Policy_Premium', 'X1',\n",
       "       'X2', 'X3', 'X4', 'X5', 'X6', 'X7', 'X8', 'X9'],\n",
       "      dtype='object')"
      ]
     },
     "execution_count": 8,
     "metadata": {},
     "output_type": "execute_result"
    }
   ],
   "source": [
    "X.columns\n"
   ]
  },
  {
   "cell_type": "code",
   "execution_count": 9,
   "metadata": {},
   "outputs": [],
   "source": [
    "X = X[['Reco_Insurance_Type',\n",
    "       'Lower_Age', 'Is_Spouse',\n",
    "       'Reco_Policy_Cat', 'Reco_Policy_Premium', 'X1',\n",
    "       'X2', 'X3', 'X4', 'X5', 'X6', 'X7', 'X8' ]]"
   ]
  },
  {
   "cell_type": "code",
   "execution_count": 10,
   "metadata": {},
   "outputs": [],
   "source": [
    "from statsmodels.stats.outliers_influence import variance_inflation_factor \n",
    "\n",
    "\n",
    "def cal_vif(X):\n",
    "    vif=pd.DataFrame()\n",
    "    vif['var']=X.columns\n",
    "    vif['VIF']=[variance_inflation_factor(X.values,i) for i in range(X.shape[1])]\n",
    "    vif['VIF'] = round(vif['VIF'], 2)\n",
    "    vif = vif.sort_values(by = \"VIF\", ascending = False)\n",
    "    return(vif)"
   ]
  },
  {
   "cell_type": "code",
   "execution_count": 11,
   "metadata": {},
   "outputs": [
    {
     "data": {
      "text/html": [
       "<div>\n",
       "<style scoped>\n",
       "    .dataframe tbody tr th:only-of-type {\n",
       "        vertical-align: middle;\n",
       "    }\n",
       "\n",
       "    .dataframe tbody tr th {\n",
       "        vertical-align: top;\n",
       "    }\n",
       "\n",
       "    .dataframe thead th {\n",
       "        text-align: right;\n",
       "    }\n",
       "</style>\n",
       "<table border=\"1\" class=\"dataframe\">\n",
       "  <thead>\n",
       "    <tr style=\"text-align: right;\">\n",
       "      <th></th>\n",
       "      <th>var</th>\n",
       "      <th>VIF</th>\n",
       "    </tr>\n",
       "  </thead>\n",
       "  <tbody>\n",
       "    <tr>\n",
       "      <th>0</th>\n",
       "      <td>Reco_Insurance_Type</td>\n",
       "      <td>35.23</td>\n",
       "    </tr>\n",
       "    <tr>\n",
       "      <th>5</th>\n",
       "      <td>X1</td>\n",
       "      <td>18.98</td>\n",
       "    </tr>\n",
       "    <tr>\n",
       "      <th>6</th>\n",
       "      <td>X2</td>\n",
       "      <td>8.49</td>\n",
       "    </tr>\n",
       "    <tr>\n",
       "      <th>7</th>\n",
       "      <td>X3</td>\n",
       "      <td>5.92</td>\n",
       "    </tr>\n",
       "    <tr>\n",
       "      <th>2</th>\n",
       "      <td>Is_Spouse</td>\n",
       "      <td>5.43</td>\n",
       "    </tr>\n",
       "    <tr>\n",
       "      <th>8</th>\n",
       "      <td>X4</td>\n",
       "      <td>5.30</td>\n",
       "    </tr>\n",
       "    <tr>\n",
       "      <th>4</th>\n",
       "      <td>Reco_Policy_Premium</td>\n",
       "      <td>4.04</td>\n",
       "    </tr>\n",
       "    <tr>\n",
       "      <th>1</th>\n",
       "      <td>Lower_Age</td>\n",
       "      <td>2.92</td>\n",
       "    </tr>\n",
       "    <tr>\n",
       "      <th>9</th>\n",
       "      <td>X5</td>\n",
       "      <td>2.43</td>\n",
       "    </tr>\n",
       "    <tr>\n",
       "      <th>10</th>\n",
       "      <td>X6</td>\n",
       "      <td>1.94</td>\n",
       "    </tr>\n",
       "    <tr>\n",
       "      <th>11</th>\n",
       "      <td>X7</td>\n",
       "      <td>1.13</td>\n",
       "    </tr>\n",
       "    <tr>\n",
       "      <th>12</th>\n",
       "      <td>X8</td>\n",
       "      <td>1.03</td>\n",
       "    </tr>\n",
       "    <tr>\n",
       "      <th>3</th>\n",
       "      <td>Reco_Policy_Cat</td>\n",
       "      <td>1.01</td>\n",
       "    </tr>\n",
       "  </tbody>\n",
       "</table>\n",
       "</div>"
      ],
      "text/plain": [
       "                    var    VIF\n",
       "0   Reco_Insurance_Type  35.23\n",
       "5                    X1  18.98\n",
       "6                    X2   8.49\n",
       "7                    X3   5.92\n",
       "2             Is_Spouse   5.43\n",
       "8                    X4   5.30\n",
       "4   Reco_Policy_Premium   4.04\n",
       "1             Lower_Age   2.92\n",
       "9                    X5   2.43\n",
       "10                   X6   1.94\n",
       "11                   X7   1.13\n",
       "12                   X8   1.03\n",
       "3       Reco_Policy_Cat   1.01"
      ]
     },
     "execution_count": 11,
     "metadata": {},
     "output_type": "execute_result"
    }
   ],
   "source": [
    "cal_vif(X)\n"
   ]
  },
  {
   "cell_type": "code",
   "execution_count": 12,
   "metadata": {},
   "outputs": [],
   "source": [
    "X.drop('Reco_Insurance_Type',axis=1,inplace=True)\n"
   ]
  },
  {
   "cell_type": "code",
   "execution_count": 13,
   "metadata": {},
   "outputs": [
    {
     "data": {
      "text/html": [
       "<div>\n",
       "<style scoped>\n",
       "    .dataframe tbody tr th:only-of-type {\n",
       "        vertical-align: middle;\n",
       "    }\n",
       "\n",
       "    .dataframe tbody tr th {\n",
       "        vertical-align: top;\n",
       "    }\n",
       "\n",
       "    .dataframe thead th {\n",
       "        text-align: right;\n",
       "    }\n",
       "</style>\n",
       "<table border=\"1\" class=\"dataframe\">\n",
       "  <thead>\n",
       "    <tr style=\"text-align: right;\">\n",
       "      <th></th>\n",
       "      <th>var</th>\n",
       "      <th>VIF</th>\n",
       "    </tr>\n",
       "  </thead>\n",
       "  <tbody>\n",
       "    <tr>\n",
       "      <th>3</th>\n",
       "      <td>Reco_Policy_Premium</td>\n",
       "      <td>2.55</td>\n",
       "    </tr>\n",
       "    <tr>\n",
       "      <th>0</th>\n",
       "      <td>Lower_Age</td>\n",
       "      <td>2.00</td>\n",
       "    </tr>\n",
       "    <tr>\n",
       "      <th>1</th>\n",
       "      <td>Is_Spouse</td>\n",
       "      <td>1.84</td>\n",
       "    </tr>\n",
       "    <tr>\n",
       "      <th>4</th>\n",
       "      <td>X1</td>\n",
       "      <td>1.12</td>\n",
       "    </tr>\n",
       "    <tr>\n",
       "      <th>5</th>\n",
       "      <td>X2</td>\n",
       "      <td>1.07</td>\n",
       "    </tr>\n",
       "    <tr>\n",
       "      <th>7</th>\n",
       "      <td>X4</td>\n",
       "      <td>1.04</td>\n",
       "    </tr>\n",
       "    <tr>\n",
       "      <th>6</th>\n",
       "      <td>X3</td>\n",
       "      <td>1.03</td>\n",
       "    </tr>\n",
       "    <tr>\n",
       "      <th>8</th>\n",
       "      <td>X5</td>\n",
       "      <td>1.03</td>\n",
       "    </tr>\n",
       "    <tr>\n",
       "      <th>2</th>\n",
       "      <td>Reco_Policy_Cat</td>\n",
       "      <td>1.01</td>\n",
       "    </tr>\n",
       "    <tr>\n",
       "      <th>9</th>\n",
       "      <td>X6</td>\n",
       "      <td>1.01</td>\n",
       "    </tr>\n",
       "    <tr>\n",
       "      <th>10</th>\n",
       "      <td>X7</td>\n",
       "      <td>1.00</td>\n",
       "    </tr>\n",
       "    <tr>\n",
       "      <th>11</th>\n",
       "      <td>X8</td>\n",
       "      <td>1.00</td>\n",
       "    </tr>\n",
       "  </tbody>\n",
       "</table>\n",
       "</div>"
      ],
      "text/plain": [
       "                    var   VIF\n",
       "3   Reco_Policy_Premium  2.55\n",
       "0             Lower_Age  2.00\n",
       "1             Is_Spouse  1.84\n",
       "4                    X1  1.12\n",
       "5                    X2  1.07\n",
       "7                    X4  1.04\n",
       "6                    X3  1.03\n",
       "8                    X5  1.03\n",
       "2       Reco_Policy_Cat  1.01\n",
       "9                    X6  1.01\n",
       "10                   X7  1.00\n",
       "11                   X8  1.00"
      ]
     },
     "execution_count": 13,
     "metadata": {},
     "output_type": "execute_result"
    }
   ],
   "source": [
    "cal_vif(X)\n"
   ]
  },
  {
   "cell_type": "code",
   "execution_count": 14,
   "metadata": {},
   "outputs": [],
   "source": [
    "from sklearn.model_selection import train_test_split\n",
    "X_train, X_test, y_train, y_test = train_test_split(X, y, test_size=0.2, random_state=42)"
   ]
  },
  {
   "cell_type": "markdown",
   "metadata": {},
   "source": [
    "### Logistic Regression\n"
   ]
  },
  {
   "cell_type": "code",
   "execution_count": 15,
   "metadata": {},
   "outputs": [],
   "source": [
    "#### Train Data\n"
   ]
  },
  {
   "cell_type": "code",
   "execution_count": 16,
   "metadata": {},
   "outputs": [],
   "source": [
    "from sklearn.linear_model import LogisticRegression\n",
    "lr = LogisticRegression()\n",
    "lr.fit(X_train,y_train)\n",
    "y_pred = lr.predict(X_train)"
   ]
  },
  {
   "cell_type": "code",
   "execution_count": 17,
   "metadata": {},
   "outputs": [
    {
     "name": "stdout",
     "output_type": "stream",
     "text": [
      "Accuracy => 0.5462509662458129\n",
      "Precision => 0.542098714226462\n",
      "F-1 score => 0.5974857142857143\n",
      "Confusion matrix =>\n",
      " [[ 813 1104]\n",
      " [ 657 1307]]\n",
      "Recall score 0.6654786150712831\n"
     ]
    }
   ],
   "source": [
    "from sklearn.metrics import accuracy_score,precision_score,f1_score,confusion_matrix,recall_score\n",
    "print('Accuracy =>',accuracy_score(y_train,y_pred))\n",
    "print('Precision =>',precision_score(y_train,y_pred))\n",
    "print('F-1 score =>',f1_score(y_train,y_pred))\n",
    "print('Confusion matrix =>\\n',confusion_matrix(y_train,y_pred))\n",
    "print('Recall score',recall_score(y_train,y_pred))"
   ]
  },
  {
   "cell_type": "code",
   "execution_count": 18,
   "metadata": {},
   "outputs": [],
   "source": [
    "#### Test Data"
   ]
  },
  {
   "cell_type": "code",
   "execution_count": 19,
   "metadata": {},
   "outputs": [],
   "source": [
    "from sklearn.linear_model import LogisticRegression\n",
    "lr = LogisticRegression()\n",
    "lr.fit(X_train,y_train)\n",
    "y_pred = lr.predict(X_test)"
   ]
  },
  {
   "cell_type": "code",
   "execution_count": 20,
   "metadata": {},
   "outputs": [
    {
     "name": "stdout",
     "output_type": "stream",
     "text": [
      "Accuracy => 0.5345005149330587\n",
      "Precision => 0.508833922261484\n",
      "F-1 score => 0.5603112840466926\n",
      "Confusion matrix =>\n",
      " [[231 278]\n",
      " [174 288]]\n",
      "Recall score 0.6233766233766234\n"
     ]
    }
   ],
   "source": [
    "from sklearn.metrics import accuracy_score,precision_score,f1_score,confusion_matrix,recall_score\n",
    "print('Accuracy =>',accuracy_score(y_test,y_pred))\n",
    "print('Precision =>',precision_score(y_test,y_pred))\n",
    "print('F-1 score =>',f1_score(y_test,y_pred))\n",
    "print('Confusion matrix =>\\n',confusion_matrix(y_test,y_pred))\n",
    "print('Recall score',recall_score(y_test,y_pred))"
   ]
  },
  {
   "cell_type": "code",
   "execution_count": 21,
   "metadata": {},
   "outputs": [
    {
     "data": {
      "text/plain": [
       "array([[0.42449707, 0.57550293],\n",
       "       [0.38807937, 0.61192063],\n",
       "       [0.54420063, 0.45579937],\n",
       "       ...,\n",
       "       [0.48635262, 0.51364738],\n",
       "       [0.49379677, 0.50620323],\n",
       "       [0.61240407, 0.38759593]])"
      ]
     },
     "execution_count": 21,
     "metadata": {},
     "output_type": "execute_result"
    }
   ],
   "source": [
    "y_pred_proba_logistic = lr.predict_proba(X_test)\n",
    "y_pred_proba_logistic"
   ]
  },
  {
   "cell_type": "code",
   "execution_count": 23,
   "metadata": {},
   "outputs": [
    {
     "data": {
      "image/png": "[encoded data removed]",
      "text/plain": [
       "<Figure size 720x504 with 1 Axes>"
      ]
     },
     "metadata": {
      "needs_background": "light"
     },
     "output_type": "display_data"
    }
   ],
   "source": [
    "from sklearn.metrics import roc_curve,roc_auc_score\n",
    "import matplotlib.pyplot as plt\n",
    "plt.figure(figsize=(10,7))\n",
    "\n",
    "ns_prob = [0 for _ in range(len(y_test))]  # bad algo\n",
    "ns_fpr,ns_tpr,thresholds = roc_curve(y_test,ns_prob)\n",
    "\n",
    "lr_prob = y_pred_proba_logistic[:,1]\n",
    "lr_auc = roc_auc_score(y_test,lr_prob)   \n",
    "lr_fpr,lr_tpr,thesholds = roc_curve(y_test,lr_prob)\n",
    "plt.plot(lr_fpr,lr_tpr,marker='.',label='Logistic Regression')\n",
    "plt.plot(ns_fpr,ns_tpr,marker='.',label='Bad Random Algo')\n",
    "plt.xlabel('False Positive Rate')\n",
    "plt.ylabel('True Positive Rate')\n",
    "plt.legend()\n",
    "plt.show()"
   ]
  },
  {
   "cell_type": "code",
   "execution_count": 24,
   "metadata": {},
   "outputs": [
    {
     "name": "stdout",
     "output_type": "stream",
     "text": [
      "Logistic Regression Accuracy is => 0.548218644485835\n"
     ]
    }
   ],
   "source": [
    "print(f'Logistic Regression Accuracy is => {lr_auc}')\n"
   ]
  },
  {
   "cell_type": "markdown",
   "metadata": {},
   "source": [
    "### SVC"
   ]
  },
  {
   "cell_type": "code",
   "execution_count": 25,
   "metadata": {},
   "outputs": [],
   "source": [
    "#### Train Data\n"
   ]
  },
  {
   "cell_type": "code",
   "execution_count": 26,
   "metadata": {},
   "outputs": [],
   "source": [
    "from sklearn.svm import SVC\n",
    "svc = SVC()\n",
    "svc.fit(X_train,y_train)\n",
    "y_pred = svc.predict(X_train)"
   ]
  },
  {
   "cell_type": "code",
   "execution_count": 27,
   "metadata": {},
   "outputs": [
    {
     "name": "stdout",
     "output_type": "stream",
     "text": [
      "Accuracy => 0.5859314609636691\n",
      "Precision => 0.5611510791366906\n",
      "F-1 score => 0.6708990374769608\n",
      "Confusion matrix =>\n",
      " [[ 636 1281]\n",
      " [ 326 1638]]\n",
      "Recall score 0.8340122199592668\n"
     ]
    }
   ],
   "source": [
    "from sklearn.metrics import accuracy_score,precision_score,f1_score,confusion_matrix,recall_score\n",
    "print('Accuracy =>',accuracy_score(y_train,y_pred))\n",
    "print('Precision =>',precision_score(y_train,y_pred))\n",
    "print('F-1 score =>',f1_score(y_train,y_pred))\n",
    "print('Confusion matrix =>\\n',confusion_matrix(y_train,y_pred))\n",
    "print('Recall score',recall_score(y_train,y_pred))"
   ]
  },
  {
   "cell_type": "code",
   "execution_count": 28,
   "metadata": {},
   "outputs": [],
   "source": [
    "#### Test Data\n"
   ]
  },
  {
   "cell_type": "code",
   "execution_count": 29,
   "metadata": {},
   "outputs": [],
   "source": [
    "from sklearn.svm import SVC\n",
    "svc = SVC(probability=True)\n",
    "svc.fit(X_train,y_train)\n",
    "y_pred = svc.predict(X_test)"
   ]
  },
  {
   "cell_type": "code",
   "execution_count": 30,
   "metadata": {},
   "outputs": [
    {
     "name": "stdout",
     "output_type": "stream",
     "text": [
      "Accuracy => 0.5314109165808445\n",
      "Precision => 0.5049786628733998\n",
      "F-1 score => 0.609442060085837\n",
      "Confusion matrix =>\n",
      " [[161 348]\n",
      " [107 355]]\n",
      "Recall score 0.7683982683982684\n"
     ]
    }
   ],
   "source": [
    "print('Accuracy =>',accuracy_score(y_test,y_pred))\n",
    "print('Precision =>',precision_score(y_test,y_pred))\n",
    "print('F-1 score =>',f1_score(y_test,y_pred))\n",
    "print('Confusion matrix =>\\n',confusion_matrix(y_test,y_pred))\n",
    "print('Recall score',recall_score(y_test,y_pred))"
   ]
  },
  {
   "cell_type": "code",
   "execution_count": 31,
   "metadata": {},
   "outputs": [
    {
     "data": {
      "text/plain": [
       "array([[0.44290914, 0.55709086],\n",
       "       [0.42341413, 0.57658587],\n",
       "       [0.52016698, 0.47983302],\n",
       "       ...,\n",
       "       [0.4328282 , 0.5671718 ],\n",
       "       [0.43723273, 0.56276727],\n",
       "       [0.60049689, 0.39950311]])"
      ]
     },
     "execution_count": 31,
     "metadata": {},
     "output_type": "execute_result"
    }
   ],
   "source": [
    "y_pred_proba_svc = svc.predict_proba(X_test)\n",
    "y_pred_proba_svc"
   ]
  },
  {
   "cell_type": "code",
   "execution_count": 32,
   "metadata": {},
   "outputs": [
    {
     "data": {
      "image/png": "[encoded data removed]",
      "text/plain": [
       "<Figure size 720x504 with 1 Axes>"
      ]
     },
     "metadata": {
      "needs_background": "light"
     },
     "output_type": "display_data"
    }
   ],
   "source": [
    "from sklearn.metrics import roc_curve,roc_auc_score\n",
    "\n",
    "plt.figure(figsize=(10,7))\n",
    "\n",
    "ns_prob = [0 for _ in range(len(y_test))]  # bad algo\n",
    "ns_fpr,ns_tpr,thresholds = roc_curve(y_test,ns_prob)\n",
    "\n",
    "svc_prob = y_pred_proba_svc[:,1]\n",
    "svc_auc = roc_auc_score(y_test,svc_prob)  \n",
    "svc_fpr,svc_tpr,thesholds = roc_curve(y_test,svc_prob)\n",
    "plt.plot(svc_fpr,svc_tpr,marker='.',label='SVC')\n",
    "plt.plot(ns_fpr,ns_tpr,marker='.',label='Bad Random Algo')\n",
    "plt.xlabel('False Positive Rate')\n",
    "plt.ylabel('True Positive Rate')\n",
    "plt.legend()\n",
    "plt.show()"
   ]
  },
  {
   "cell_type": "code",
   "execution_count": 33,
   "metadata": {},
   "outputs": [
    {
     "name": "stdout",
     "output_type": "stream",
     "text": [
      "SVC Accuracy is => 0.5600277260395139\n"
     ]
    }
   ],
   "source": [
    "print(f'SVC Accuracy is => {svc_auc}')\n"
   ]
  },
  {
   "cell_type": "markdown",
   "metadata": {},
   "source": [
    "### KNN"
   ]
  },
  {
   "cell_type": "code",
   "execution_count": 34,
   "metadata": {},
   "outputs": [],
   "source": [
    "from sklearn.neighbors import KNeighborsClassifier\n",
    "knn = KNeighborsClassifier()\n",
    "knn.fit(X_train,y_train)\n",
    "y_pred = knn.predict(X_train)"
   ]
  },
  {
   "cell_type": "code",
   "execution_count": 35,
   "metadata": {},
   "outputs": [
    {
     "name": "stdout",
     "output_type": "stream",
     "text": [
      "Accuracy => 0.7116722494202525\n",
      "Precision => 0.7105132037867464\n",
      "F-1 score => 0.7182070007554773\n",
      "Confusion matrix =>\n",
      " [[1336  581]\n",
      " [ 538 1426]]\n",
      "Recall score 0.7260692464358453\n"
     ]
    }
   ],
   "source": [
    "from sklearn.metrics import accuracy_score,precision_score,f1_score,confusion_matrix,recall_score\n",
    "print('Accuracy =>',accuracy_score(y_train,y_pred))\n",
    "print('Precision =>',precision_score(y_train,y_pred))\n",
    "print('F-1 score =>',f1_score(y_train,y_pred))\n",
    "print('Confusion matrix =>\\n',confusion_matrix(y_train,y_pred))\n",
    "print('Recall score',recall_score(y_train,y_pred))"
   ]
  },
  {
   "cell_type": "code",
   "execution_count": 37,
   "metadata": {},
   "outputs": [],
   "source": [
    " ### Test Data"
   ]
  },
  {
   "cell_type": "code",
   "execution_count": 38,
   "metadata": {},
   "outputs": [],
   "source": [
    "from sklearn.neighbors import KNeighborsClassifier\n",
    "knn = KNeighborsClassifier()\n",
    "knn.fit(X_train,y_train)\n",
    "y_pred = knn.predict(X_test)"
   ]
  },
  {
   "cell_type": "code",
   "execution_count": 39,
   "metadata": {},
   "outputs": [
    {
     "name": "stdout",
     "output_type": "stream",
     "text": [
      "Accuracy => 0.5283213182286303\n",
      "Precision => 0.503968253968254\n",
      "F-1 score => 0.525879917184265\n",
      "Confusion matrix =>\n",
      " [[259 250]\n",
      " [208 254]]\n",
      "Recall score 0.5497835497835498\n"
     ]
    }
   ],
   "source": [
    "print('Accuracy =>',accuracy_score(y_test,y_pred))\n",
    "print('Precision =>',precision_score(y_test,y_pred))\n",
    "print('F-1 score =>',f1_score(y_test,y_pred))\n",
    "print('Confusion matrix =>\\n',confusion_matrix(y_test,y_pred))\n",
    "print('Recall score',recall_score(y_test,y_pred))"
   ]
  },
  {
   "cell_type": "code",
   "execution_count": 40,
   "metadata": {},
   "outputs": [
    {
     "data": {
      "text/plain": [
       "array([[0.4, 0.6],\n",
       "       [0. , 1. ],\n",
       "       [0.4, 0.6],\n",
       "       ...,\n",
       "       [0.4, 0.6],\n",
       "       [0.4, 0.6],\n",
       "       [0.6, 0.4]])"
      ]
     },
     "execution_count": 40,
     "metadata": {},
     "output_type": "execute_result"
    }
   ],
   "source": [
    "y_pred_proba_knn = knn.predict_proba(X_test)\n",
    "y_pred_proba_knn"
   ]
  },
  {
   "cell_type": "code",
   "execution_count": 41,
   "metadata": {},
   "outputs": [
    {
     "data": {
      "image/png": "[encoded data removed]",
      "text/plain": [
       "<Figure size 720x504 with 1 Axes>"
      ]
     },
     "metadata": {
      "needs_background": "light"
     },
     "output_type": "display_data"
    }
   ],
   "source": [
    "from sklearn.metrics import roc_curve,roc_auc_score\n",
    "\n",
    "plt.figure(figsize=(10,7))\n",
    "\n",
    "ns_prob = [0 for _ in range(len(y_test))]  # bad algo\n",
    "ns_fpr,ns_tpr,thresholds = roc_curve(y_test,ns_prob)\n",
    "\n",
    "knn_prob = y_pred_proba_knn[:,1]\n",
    "knn_auc = roc_auc_score(y_test,knn_prob)  \n",
    "knn_fpr,knn_tpr,thesholds = roc_curve(y_test,knn_prob)\n",
    "plt.plot(knn_fpr,knn_tpr,marker='.',label='KNN')\n",
    "plt.plot(ns_fpr,ns_tpr,marker='.',label='Bad Random Algo')\n",
    "plt.xlabel('False Positive Rate')\n",
    "plt.ylabel('True Positive Rate')\n",
    "plt.legend()\n",
    "plt.show()"
   ]
  },
  {
   "cell_type": "code",
   "execution_count": 42,
   "metadata": {},
   "outputs": [
    {
     "name": "stdout",
     "output_type": "stream",
     "text": [
      "KNN Accuracy is => 0.5268712950441831\n"
     ]
    }
   ],
   "source": [
    "print(f'KNN Accuracy is => {knn_auc}')\n"
   ]
  },
  {
   "cell_type": "markdown",
   "metadata": {},
   "source": [
    "### Decision Tree\n"
   ]
  },
  {
   "cell_type": "code",
   "execution_count": 43,
   "metadata": {},
   "outputs": [],
   "source": [
    "from sklearn.tree import DecisionTreeClassifier\n",
    "dtrc = DecisionTreeClassifier()\n",
    "dtrc.fit(X_train,y_train)\n",
    "y_pred = dtrc.predict(X_train)"
   ]
  },
  {
   "cell_type": "code",
   "execution_count": 44,
   "metadata": {},
   "outputs": [
    {
     "name": "stdout",
     "output_type": "stream",
     "text": [
      "Accuracy => 0.999742334449884\n",
      "Precision => 1.0\n",
      "F-1 score => 0.9997453526865292\n",
      "Confusion matrix =>\n",
      " [[1917    0]\n",
      " [   1 1963]]\n",
      "Recall score 0.9994908350305499\n"
     ]
    }
   ],
   "source": [
    "from sklearn.metrics import accuracy_score,precision_score,f1_score,confusion_matrix,recall_score\n",
    "print('Accuracy =>',accuracy_score(y_train,y_pred))\n",
    "print('Precision =>',precision_score(y_train,y_pred))\n",
    "print('F-1 score =>',f1_score(y_train,y_pred))\n",
    "print('Confusion matrix =>\\n',confusion_matrix(y_train,y_pred))\n",
    "print('Recall score',recall_score(y_train,y_pred))"
   ]
  },
  {
   "cell_type": "code",
   "execution_count": 45,
   "metadata": {},
   "outputs": [],
   "source": [
    "### Test Data"
   ]
  },
  {
   "cell_type": "code",
   "execution_count": 46,
   "metadata": {},
   "outputs": [],
   "source": [
    "from sklearn.tree import DecisionTreeClassifier\n",
    "dtrc = DecisionTreeClassifier()\n",
    "dtrc.fit(X_train,y_train)\n",
    "y_pred = dtrc.predict(X_test)"
   ]
  },
  {
   "cell_type": "code",
   "execution_count": 47,
   "metadata": {},
   "outputs": [
    {
     "name": "stdout",
     "output_type": "stream",
     "text": [
      "Accuracy => 0.548918640576725\n",
      "Precision => 0.525974025974026\n",
      "F-1 score => 0.525974025974026\n",
      "Confusion matrix =>\n",
      " [[290 219]\n",
      " [219 243]]\n",
      "Recall score 0.525974025974026\n"
     ]
    }
   ],
   "source": [
    "print('Accuracy =>',accuracy_score(y_test,y_pred))\n",
    "print('Precision =>',precision_score(y_test,y_pred))\n",
    "print('F-1 score =>',f1_score(y_test,y_pred))\n",
    "print('Confusion matrix =>\\n',confusion_matrix(y_test,y_pred))\n",
    "print('Recall score',recall_score(y_test,y_pred))"
   ]
  },
  {
   "cell_type": "code",
   "execution_count": 48,
   "metadata": {},
   "outputs": [
    {
     "data": {
      "text/plain": [
       "array([[0., 1.],\n",
       "       [0., 1.],\n",
       "       [0., 1.],\n",
       "       ...,\n",
       "       [1., 0.],\n",
       "       [1., 0.],\n",
       "       [0., 1.]])"
      ]
     },
     "execution_count": 48,
     "metadata": {},
     "output_type": "execute_result"
    }
   ],
   "source": [
    "y_pred_proba_dtree = dtrc.predict_proba(X_test)\n",
    "y_pred_proba_dtree"
   ]
  },
  {
   "cell_type": "code",
   "execution_count": 49,
   "metadata": {},
   "outputs": [
    {
     "data": {
      "image/png": "[encoded data removed]",
      "text/plain": [
       "<Figure size 720x504 with 1 Axes>"
      ]
     },
     "metadata": {
      "needs_background": "light"
     },
     "output_type": "display_data"
    }
   ],
   "source": [
    "from sklearn.metrics import roc_curve,roc_auc_score\n",
    "\n",
    "plt.figure(figsize=(10,7))\n",
    "\n",
    "ns_prob = [0 for _ in range(len(y_test))]  # bad algo\n",
    "ns_fpr,ns_tpr,thresholds = roc_curve(y_test,ns_prob)\n",
    "\n",
    "dtree_prob = y_pred_proba_dtree[:,1]\n",
    "dtree_auc = roc_auc_score(y_test,dtree_prob)   \n",
    "dtree_fpr,dtree_tpr,thesholds = roc_curve(y_test,dtree_prob)\n",
    "plt.plot(dtree_fpr,dtree_tpr,marker='.',label='Decision tree')\n",
    "plt.plot(ns_fpr,ns_tpr,marker='.',label='Bad Random Algo')\n",
    "plt.xlabel('False Positive Rate')\n",
    "plt.ylabel('True Positive Rate')\n",
    "plt.legend()\n",
    "plt.show()"
   ]
  },
  {
   "cell_type": "code",
   "execution_count": 51,
   "metadata": {},
   "outputs": [
    {
     "name": "stdout",
     "output_type": "stream",
     "text": [
      "Decision Tree Accuracy is => 0.5478593116117674\n"
     ]
    }
   ],
   "source": [
    "print(f'Decision Tree Accuracy is => {dtree_auc}')\n"
   ]
  },
  {
   "cell_type": "markdown",
   "metadata": {},
   "source": [
    "### Random Forest"
   ]
  },
  {
   "cell_type": "code",
   "execution_count": 52,
   "metadata": {},
   "outputs": [],
   "source": [
    "from sklearn.ensemble import RandomForestClassifier\n",
    "rfc = RandomForestClassifier()\n",
    "rfc.fit(X_train,y_train)\n",
    "y_pred = rfc.predict(X_train)"
   ]
  },
  {
   "cell_type": "code",
   "execution_count": 53,
   "metadata": {},
   "outputs": [
    {
     "name": "stdout",
     "output_type": "stream",
     "text": [
      "Accuracy => 0.999742334449884\n",
      "Precision => 1.0\n",
      "F-1 score => 0.9997453526865292\n",
      "Confusion matrix =>\n",
      " [[1917    0]\n",
      " [   1 1963]]\n",
      "Recall score 0.9994908350305499\n"
     ]
    }
   ],
   "source": [
    "from sklearn.metrics import accuracy_score,precision_score,f1_score,confusion_matrix,recall_score\n",
    "print('Accuracy =>',accuracy_score(y_train,y_pred))\n",
    "print('Precision =>',precision_score(y_train,y_pred))\n",
    "print('F-1 score =>',f1_score(y_train,y_pred))\n",
    "print('Confusion matrix =>\\n',confusion_matrix(y_train,y_pred))\n",
    "print('Recall score',recall_score(y_train,y_pred))"
   ]
  },
  {
   "cell_type": "code",
   "execution_count": 54,
   "metadata": {},
   "outputs": [],
   "source": [
    "#### Test Data"
   ]
  },
  {
   "cell_type": "code",
   "execution_count": 55,
   "metadata": {},
   "outputs": [],
   "source": [
    "from sklearn.ensemble import RandomForestClassifier\n",
    "rfc = RandomForestClassifier()\n",
    "rfc.fit(X_train,y_train)\n",
    "y_pred = rfc.predict(X_test)"
   ]
  },
  {
   "cell_type": "code",
   "execution_count": 56,
   "metadata": {},
   "outputs": [
    {
     "name": "stdout",
     "output_type": "stream",
     "text": [
      "Accuracy => 0.5303810504634398\n",
      "Precision => 0.5060728744939271\n",
      "F-1 score => 0.5230125523012553\n",
      "Confusion matrix =>\n",
      " [[265 244]\n",
      " [212 250]]\n",
      "Recall score 0.5411255411255411\n"
     ]
    }
   ],
   "source": [
    "print('Accuracy =>',accuracy_score(y_test,y_pred))\n",
    "print('Precision =>',precision_score(y_test,y_pred))\n",
    "print('F-1 score =>',f1_score(y_test,y_pred))\n",
    "print('Confusion matrix =>\\n',confusion_matrix(y_test,y_pred))\n",
    "print('Recall score',recall_score(y_test,y_pred))"
   ]
  },
  {
   "cell_type": "code",
   "execution_count": 57,
   "metadata": {},
   "outputs": [
    {
     "data": {
      "text/plain": [
       "array([[0.34, 0.66],\n",
       "       [0.04, 0.96],\n",
       "       [0.3 , 0.7 ],\n",
       "       ...,\n",
       "       [0.64, 0.36],\n",
       "       [0.59, 0.41],\n",
       "       [0.2 , 0.8 ]])"
      ]
     },
     "execution_count": 57,
     "metadata": {},
     "output_type": "execute_result"
    }
   ],
   "source": [
    "y_pred_proba_rfc = rfc.predict_proba(X_test)\n",
    "y_pred_proba_rfc"
   ]
  },
  {
   "cell_type": "code",
   "execution_count": 58,
   "metadata": {},
   "outputs": [
    {
     "data": {
      "image/png": "[encoded data removed]",
      "text/plain": [
       "<Figure size 720x504 with 1 Axes>"
      ]
     },
     "metadata": {
      "needs_background": "light"
     },
     "output_type": "display_data"
    }
   ],
   "source": [
    "from sklearn.metrics import roc_curve,roc_auc_score\n",
    "\n",
    "plt.figure(figsize=(10,7))\n",
    "\n",
    "ns_prob = [0 for _ in range(len(y_test))]  # bad algo\n",
    "ns_fpr,ns_tpr,thresholds = roc_curve(y_test,ns_prob)\n",
    "\n",
    "rfc_prob = y_pred_proba_rfc[:,1]\n",
    "rfc_auc = roc_auc_score(y_test,rfc_prob)   \n",
    "rfc_fpr,rfc_tpr,thesholds = roc_curve(y_test,rfc_prob)\n",
    "plt.plot(rfc_fpr,rfc_tpr,marker='.',label='Random Forest')\n",
    "plt.plot(ns_fpr,ns_tpr,marker='.',label='Bad Random Algo')\n",
    "plt.xlabel('False Positive Rate')\n",
    "plt.ylabel('True Positive Rate')\n",
    "plt.legend()\n",
    "plt.show()"
   ]
  },
  {
   "cell_type": "code",
   "execution_count": 59,
   "metadata": {},
   "outputs": [
    {
     "name": "stdout",
     "output_type": "stream",
     "text": [
      "Random Forest Accuracy is => 0.551641874824586\n"
     ]
    }
   ],
   "source": [
    "print(f'Random Forest Accuracy is => {rfc_auc}')"
   ]
  },
  {
   "cell_type": "markdown",
   "metadata": {},
   "source": [
    "### Gradient Boosting"
   ]
  },
  {
   "cell_type": "code",
   "execution_count": 61,
   "metadata": {},
   "outputs": [],
   "source": [
    "from sklearn.ensemble import GradientBoostingClassifier\n",
    "gbc = GradientBoostingClassifier()\n",
    "gbc.fit(X_train,y_train)\n",
    "y_pred = gbc.predict(X_train)"
   ]
  },
  {
   "cell_type": "code",
   "execution_count": 62,
   "metadata": {},
   "outputs": [
    {
     "name": "stdout",
     "output_type": "stream",
     "text": [
      "Accuracy => 0.6603968049471786\n",
      "Precision => 0.6351464435146443\n",
      "F-1 score => 0.6972898484152502\n",
      "Confusion matrix =>\n",
      " [[1045  872]\n",
      " [ 446 1518]]\n",
      "Recall score 0.7729124236252546\n"
     ]
    }
   ],
   "source": [
    "from sklearn.metrics import accuracy_score,precision_score,f1_score,confusion_matrix,recall_score\n",
    "print('Accuracy =>',accuracy_score(y_train,y_pred))\n",
    "print('Precision =>',precision_score(y_train,y_pred))\n",
    "print('F-1 score =>',f1_score(y_train,y_pred))\n",
    "print('Confusion matrix =>\\n',confusion_matrix(y_train,y_pred))\n",
    "print('Recall score',recall_score(y_train,y_pred))"
   ]
  },
  {
   "cell_type": "code",
   "execution_count": 63,
   "metadata": {},
   "outputs": [],
   "source": [
    "from sklearn.ensemble import GradientBoostingClassifier\n",
    "gbc = GradientBoostingClassifier()\n",
    "gbc.fit(X_train,y_train)\n",
    "y_pred = gbc.predict(X_test)"
   ]
  },
  {
   "cell_type": "code",
   "execution_count": 64,
   "metadata": {},
   "outputs": [
    {
     "name": "stdout",
     "output_type": "stream",
     "text": [
      "Accuracy => 0.5478887744593203\n",
      "Precision => 0.5204262877442274\n",
      "F-1 score => 0.5717073170731708\n",
      "Confusion matrix =>\n",
      " [[239 270]\n",
      " [169 293]]\n",
      "Recall score 0.6341991341991342\n"
     ]
    }
   ],
   "source": [
    "print('Accuracy =>',accuracy_score(y_test,y_pred))\n",
    "print('Precision =>',precision_score(y_test,y_pred))\n",
    "print('F-1 score =>',f1_score(y_test,y_pred))\n",
    "print('Confusion matrix =>\\n',confusion_matrix(y_test,y_pred))\n",
    "print('Recall score',recall_score(y_test,y_pred))"
   ]
  },
  {
   "cell_type": "code",
   "execution_count": 65,
   "metadata": {},
   "outputs": [
    {
     "data": {
      "text/plain": [
       "array([[0.57233123, 0.42766877],\n",
       "       [0.31010421, 0.68989579],\n",
       "       [0.33103742, 0.66896258],\n",
       "       ...,\n",
       "       [0.52366375, 0.47633625],\n",
       "       [0.4951024 , 0.5048976 ],\n",
       "       [0.6529841 , 0.3470159 ]])"
      ]
     },
     "execution_count": 65,
     "metadata": {},
     "output_type": "execute_result"
    }
   ],
   "source": [
    "y_pred_proba_gbc = gbc.predict_proba(X_test)\n",
    "y_pred_proba_gbc"
   ]
  },
  {
   "cell_type": "code",
   "execution_count": 67,
   "metadata": {},
   "outputs": [
    {
     "data": {
      "image/png": "[encoded data removed]",
      "text/plain": [
       "<Figure size 720x504 with 1 Axes>"
      ]
     },
     "metadata": {
      "needs_background": "light"
     },
     "output_type": "display_data"
    }
   ],
   "source": [
    "from sklearn.metrics import roc_curve,roc_auc_score\n",
    "\n",
    "plt.figure(figsize=(10,7))\n",
    "\n",
    "ns_prob = [0 for _ in range(len(y_test))]  # bad algo\n",
    "ns_fpr,ns_tpr,thresholds = roc_curve(y_test,ns_prob)\n",
    "\n",
    "gbc_prob = y_pred_proba_gbc[:,1]\n",
    "gbc_auc = roc_auc_score(y_test,gbc_prob)  \n",
    "gbc_fpr,gbc_tpr,thesholds = roc_curve(y_test,gbc_prob)\n",
    "plt.plot(gbc_fpr,gbc_tpr,marker='.',label='Gradient Boosting')\n",
    "plt.plot(ns_fpr,ns_tpr,marker='.',label='Bad Random Algo')\n",
    "plt.xlabel('False Positive Rate')\n",
    "plt.ylabel('True Positive Rate')\n",
    "plt.legend()\n",
    "plt.show()"
   ]
  },
  {
   "cell_type": "code",
   "execution_count": 68,
   "metadata": {},
   "outputs": [
    {
     "name": "stdout",
     "output_type": "stream",
     "text": [
      "Gradient Boosting Accuracy is => 0.5793806717185892\n"
     ]
    }
   ],
   "source": [
    "print(f'Gradient Boosting Accuracy is => {gbc_auc}')\n"
   ]
  },
  {
   "cell_type": "markdown",
   "metadata": {},
   "source": [
    "### Ada Boost"
   ]
  },
  {
   "cell_type": "code",
   "execution_count": 69,
   "metadata": {},
   "outputs": [],
   "source": [
    "from sklearn.ensemble import AdaBoostClassifier\n",
    "abc = AdaBoostClassifier()\n",
    "abc.fit(X_train,y_train)\n",
    "y_pred = abc.predict(X_train)"
   ]
  },
  {
   "cell_type": "code",
   "execution_count": 70,
   "metadata": {},
   "outputs": [
    {
     "name": "stdout",
     "output_type": "stream",
     "text": [
      "Accuracy => 0.6013913939706261\n",
      "Precision => 0.5953360768175583\n",
      "F-1 score => 0.627318718381113\n",
      "Confusion matrix =>\n",
      " [[1032  885]\n",
      " [ 662 1302]]\n",
      "Recall score 0.6629327902240326\n"
     ]
    }
   ],
   "source": [
    "from sklearn.metrics import accuracy_score,precision_score,f1_score,confusion_matrix,recall_score\n",
    "print('Accuracy =>',accuracy_score(y_train,y_pred))\n",
    "print('Precision =>',precision_score(y_train,y_pred))\n",
    "print('F-1 score =>',f1_score(y_train,y_pred))\n",
    "print('Confusion matrix =>\\n',confusion_matrix(y_train,y_pred))\n",
    "print('Recall score',recall_score(y_train,y_pred))"
   ]
  },
  {
   "cell_type": "code",
   "execution_count": 71,
   "metadata": {},
   "outputs": [],
   "source": [
    "#### Test Data"
   ]
  },
  {
   "cell_type": "code",
   "execution_count": 72,
   "metadata": {},
   "outputs": [],
   "source": [
    "from sklearn.ensemble import AdaBoostClassifier\n",
    "abc = AdaBoostClassifier()\n",
    "abc.fit(X_train,y_train)\n",
    "y_pred = abc.predict(X_test)"
   ]
  },
  {
   "cell_type": "code",
   "execution_count": 73,
   "metadata": {},
   "outputs": [
    {
     "name": "stdout",
     "output_type": "stream",
     "text": [
      "Accuracy => 0.5262615859938208\n",
      "Precision => 0.5019607843137255\n",
      "F-1 score => 0.5267489711934157\n",
      "Confusion matrix =>\n",
      " [[255 254]\n",
      " [206 256]]\n",
      "Recall score 0.5541125541125541\n"
     ]
    }
   ],
   "source": [
    "print('Accuracy =>',accuracy_score(y_test,y_pred))\n",
    "print('Precision =>',precision_score(y_test,y_pred))\n",
    "print('F-1 score =>',f1_score(y_test,y_pred))\n",
    "print('Confusion matrix =>\\n',confusion_matrix(y_test,y_pred))\n",
    "print('Recall score',recall_score(y_test,y_pred))"
   ]
  },
  {
   "cell_type": "code",
   "execution_count": 74,
   "metadata": {},
   "outputs": [
    {
     "data": {
      "text/plain": [
       "array([[0.50059596, 0.49940404],\n",
       "       [0.49620556, 0.50379444],\n",
       "       [0.49629057, 0.50370943],\n",
       "       ...,\n",
       "       [0.49973633, 0.50026367],\n",
       "       [0.50062333, 0.49937667],\n",
       "       [0.50172616, 0.49827384]])"
      ]
     },
     "execution_count": 74,
     "metadata": {},
     "output_type": "execute_result"
    }
   ],
   "source": [
    "y_pred_proba_abc = abc.predict_proba(X_test)\n",
    "y_pred_proba_abc"
   ]
  },
  {
   "cell_type": "code",
   "execution_count": 76,
   "metadata": {},
   "outputs": [
    {
     "data": {
      "image/png": "[encoded data removed]",
      "text/plain": [
       "<Figure size 720x504 with 1 Axes>"
      ]
     },
     "metadata": {
      "needs_background": "light"
     },
     "output_type": "display_data"
    }
   ],
   "source": [
    "from sklearn.metrics import roc_curve,roc_auc_score\n",
    "\n",
    "plt.figure(figsize=(10,7))\n",
    "\n",
    "ns_prob = [0 for _ in range(len(y_test))]  # bad algo\n",
    "ns_fpr,ns_tpr,thresholds = roc_curve(y_test,ns_prob)\n",
    "\n",
    "abc_prob = y_pred_proba_abc[:,1]\n",
    "abc_auc = roc_auc_score(y_test,abc_prob)   \n",
    "abc_fpr,abc_tpr,thesholds = roc_curve(y_test,abc_prob)\n",
    "plt.plot(abc_fpr,abc_tpr,marker='.',label='Ada Boost')\n",
    "plt.plot(ns_fpr,ns_tpr,marker='.',label='Bad Random Algo')\n",
    "plt.xlabel('False Positive Rate')\n",
    "plt.ylabel('True Positive Rate')\n",
    "plt.legend()\n",
    "plt.show()"
   ]
  },
  {
   "cell_type": "code",
   "execution_count": 77,
   "metadata": {},
   "outputs": [
    {
     "name": "stdout",
     "output_type": "stream",
     "text": [
      "Ada Boost Accuracy is => 0.5586669388241098\n"
     ]
    }
   ],
   "source": [
    "print(f'Ada Boost Accuracy is => {abc_auc}')\n"
   ]
  },
  {
   "cell_type": "markdown",
   "metadata": {},
   "source": [
    "### Gradient Boosting works best after feature selection "
   ]
  },
  {
   "cell_type": "code",
   "execution_count": null,
   "metadata": {},
   "outputs": [],
   "source": []
  }
 ],
 "metadata": {
  "kernelspec": {
   "display_name": "Python 3 (ipykernel)",
   "language": "python",
   "name": "python3"
  },
  "language_info": {
   "codemirror_mode": {
    "name": "ipython",
    "version": 3
   },
   "file_extension": ".py",
   "mimetype": "text/x-python",
   "name": "python",
   "nbconvert_exporter": "python",
   "pygments_lexer": "ipython3",
   "version": "3.9.7"
  }
 },
 "nbformat": 4,
 "nbformat_minor": 4
}
