{
 "cells": [
  {
   "cell_type": "markdown",
   "id": "98aee73d",
   "metadata": {},
   "source": [
    "# Task - 3\n",
    "\n",
    "\n",
    "\n",
    "## **Task has been mentioned at the end of this notebook**  "
   ]
  },
  {
   "cell_type": "markdown",
   "id": "403ac916",
   "metadata": {},
   "source": [
    "## 1. Basic Pandas Operations"
   ]
  },
  {
   "cell_type": "code",
   "execution_count": 2,
   "id": "35213f1e",
   "metadata": {},
   "outputs": [],
   "source": [
    "# Import all the required Libraries\n",
    "\n",
    "import pandas as pd\n",
    "import numpy as np\n",
    "\n",
    "import seaborn as sns\n",
    "import matplotlib.pyplot as plt\n",
    "import warnings\n",
    "warnings.filterwarnings('ignore')\n"
   ]
  },
  {
   "cell_type": "code",
   "execution_count": 3,
   "id": "f1e3d787",
   "metadata": {
    "scrolled": true
   },
   "outputs": [
    {
     "data": {
      "text/html": [
       "<div>\n",
       "<style scoped>\n",
       "    .dataframe tbody tr th:only-of-type {\n",
       "        vertical-align: middle;\n",
       "    }\n",
       "\n",
       "    .dataframe tbody tr th {\n",
       "        vertical-align: top;\n",
       "    }\n",
       "\n",
       "    .dataframe thead th {\n",
       "        text-align: right;\n",
       "    }\n",
       "</style>\n",
       "<table border=\"1\" class=\"dataframe\">\n",
       "  <thead>\n",
       "    <tr style=\"text-align: right;\">\n",
       "      <th></th>\n",
       "      <th>City_Code</th>\n",
       "      <th>Region_Code</th>\n",
       "      <th>Accomodation_Type</th>\n",
       "      <th>Reco_Insurance_Type</th>\n",
       "      <th>Upper_Age</th>\n",
       "      <th>Lower_Age</th>\n",
       "      <th>Is_Spouse</th>\n",
       "      <th>Holding_Policy_Duration</th>\n",
       "      <th>Holding_Policy_Type</th>\n",
       "      <th>Reco_Policy_Cat</th>\n",
       "      <th>...</th>\n",
       "      <th>Response</th>\n",
       "      <th>X1</th>\n",
       "      <th>X2</th>\n",
       "      <th>X3</th>\n",
       "      <th>X4</th>\n",
       "      <th>X5</th>\n",
       "      <th>X6</th>\n",
       "      <th>X7</th>\n",
       "      <th>X8</th>\n",
       "      <th>X9</th>\n",
       "    </tr>\n",
       "  </thead>\n",
       "  <tbody>\n",
       "    <tr>\n",
       "      <th>0</th>\n",
       "      <td>C3</td>\n",
       "      <td>64</td>\n",
       "      <td>1</td>\n",
       "      <td>1</td>\n",
       "      <td>36</td>\n",
       "      <td>36</td>\n",
       "      <td>0</td>\n",
       "      <td>15</td>\n",
       "      <td>2.0</td>\n",
       "      <td>16</td>\n",
       "      <td>...</td>\n",
       "      <td>0</td>\n",
       "      <td>1</td>\n",
       "      <td>0</td>\n",
       "      <td>0</td>\n",
       "      <td>0</td>\n",
       "      <td>0</td>\n",
       "      <td>0</td>\n",
       "      <td>0</td>\n",
       "      <td>0</td>\n",
       "      <td>0</td>\n",
       "    </tr>\n",
       "    <tr>\n",
       "      <th>1</th>\n",
       "      <td>C3</td>\n",
       "      <td>2955</td>\n",
       "      <td>1</td>\n",
       "      <td>1</td>\n",
       "      <td>66</td>\n",
       "      <td>66</td>\n",
       "      <td>0</td>\n",
       "      <td>10</td>\n",
       "      <td>1.0</td>\n",
       "      <td>19</td>\n",
       "      <td>...</td>\n",
       "      <td>0</td>\n",
       "      <td>0</td>\n",
       "      <td>0</td>\n",
       "      <td>0</td>\n",
       "      <td>0</td>\n",
       "      <td>0</td>\n",
       "      <td>1</td>\n",
       "      <td>0</td>\n",
       "      <td>0</td>\n",
       "      <td>0</td>\n",
       "    </tr>\n",
       "    <tr>\n",
       "      <th>2</th>\n",
       "      <td>C1</td>\n",
       "      <td>1542</td>\n",
       "      <td>0</td>\n",
       "      <td>1</td>\n",
       "      <td>24</td>\n",
       "      <td>24</td>\n",
       "      <td>0</td>\n",
       "      <td>3</td>\n",
       "      <td>1.0</td>\n",
       "      <td>16</td>\n",
       "      <td>...</td>\n",
       "      <td>0</td>\n",
       "      <td>1</td>\n",
       "      <td>0</td>\n",
       "      <td>0</td>\n",
       "      <td>0</td>\n",
       "      <td>0</td>\n",
       "      <td>0</td>\n",
       "      <td>0</td>\n",
       "      <td>0</td>\n",
       "      <td>0</td>\n",
       "    </tr>\n",
       "    <tr>\n",
       "      <th>3</th>\n",
       "      <td>C26</td>\n",
       "      <td>772</td>\n",
       "      <td>0</td>\n",
       "      <td>1</td>\n",
       "      <td>75</td>\n",
       "      <td>75</td>\n",
       "      <td>0</td>\n",
       "      <td>1</td>\n",
       "      <td>3.0</td>\n",
       "      <td>16</td>\n",
       "      <td>...</td>\n",
       "      <td>0</td>\n",
       "      <td>1</td>\n",
       "      <td>0</td>\n",
       "      <td>0</td>\n",
       "      <td>0</td>\n",
       "      <td>0</td>\n",
       "      <td>0</td>\n",
       "      <td>0</td>\n",
       "      <td>0</td>\n",
       "      <td>0</td>\n",
       "    </tr>\n",
       "    <tr>\n",
       "      <th>4</th>\n",
       "      <td>C2</td>\n",
       "      <td>1510</td>\n",
       "      <td>1</td>\n",
       "      <td>0</td>\n",
       "      <td>59</td>\n",
       "      <td>58</td>\n",
       "      <td>1</td>\n",
       "      <td>15</td>\n",
       "      <td>4.0</td>\n",
       "      <td>17</td>\n",
       "      <td>...</td>\n",
       "      <td>0</td>\n",
       "      <td>1</td>\n",
       "      <td>0</td>\n",
       "      <td>0</td>\n",
       "      <td>0</td>\n",
       "      <td>0</td>\n",
       "      <td>0</td>\n",
       "      <td>0</td>\n",
       "      <td>0</td>\n",
       "      <td>0</td>\n",
       "    </tr>\n",
       "    <tr>\n",
       "      <th>...</th>\n",
       "      <td>...</td>\n",
       "      <td>...</td>\n",
       "      <td>...</td>\n",
       "      <td>...</td>\n",
       "      <td>...</td>\n",
       "      <td>...</td>\n",
       "      <td>...</td>\n",
       "      <td>...</td>\n",
       "      <td>...</td>\n",
       "      <td>...</td>\n",
       "      <td>...</td>\n",
       "      <td>...</td>\n",
       "      <td>...</td>\n",
       "      <td>...</td>\n",
       "      <td>...</td>\n",
       "      <td>...</td>\n",
       "      <td>...</td>\n",
       "      <td>...</td>\n",
       "      <td>...</td>\n",
       "      <td>...</td>\n",
       "      <td>...</td>\n",
       "    </tr>\n",
       "    <tr>\n",
       "      <th>9844</th>\n",
       "      <td>C3</td>\n",
       "      <td>13</td>\n",
       "      <td>1</td>\n",
       "      <td>0</td>\n",
       "      <td>47</td>\n",
       "      <td>40</td>\n",
       "      <td>1</td>\n",
       "      <td>15</td>\n",
       "      <td>3.0</td>\n",
       "      <td>19</td>\n",
       "      <td>...</td>\n",
       "      <td>1</td>\n",
       "      <td>0</td>\n",
       "      <td>0</td>\n",
       "      <td>0</td>\n",
       "      <td>0</td>\n",
       "      <td>1</td>\n",
       "      <td>0</td>\n",
       "      <td>0</td>\n",
       "      <td>0</td>\n",
       "      <td>0</td>\n",
       "    </tr>\n",
       "    <tr>\n",
       "      <th>9845</th>\n",
       "      <td>C5</td>\n",
       "      <td>1477</td>\n",
       "      <td>0</td>\n",
       "      <td>1</td>\n",
       "      <td>34</td>\n",
       "      <td>34</td>\n",
       "      <td>0</td>\n",
       "      <td>6</td>\n",
       "      <td>1.0</td>\n",
       "      <td>4</td>\n",
       "      <td>...</td>\n",
       "      <td>0</td>\n",
       "      <td>1</td>\n",
       "      <td>0</td>\n",
       "      <td>0</td>\n",
       "      <td>0</td>\n",
       "      <td>0</td>\n",
       "      <td>0</td>\n",
       "      <td>0</td>\n",
       "      <td>0</td>\n",
       "      <td>0</td>\n",
       "    </tr>\n",
       "    <tr>\n",
       "      <th>9846</th>\n",
       "      <td>C1</td>\n",
       "      <td>2357</td>\n",
       "      <td>1</td>\n",
       "      <td>1</td>\n",
       "      <td>64</td>\n",
       "      <td>64</td>\n",
       "      <td>0</td>\n",
       "      <td>8</td>\n",
       "      <td>2.0</td>\n",
       "      <td>19</td>\n",
       "      <td>...</td>\n",
       "      <td>0</td>\n",
       "      <td>1</td>\n",
       "      <td>0</td>\n",
       "      <td>0</td>\n",
       "      <td>0</td>\n",
       "      <td>0</td>\n",
       "      <td>0</td>\n",
       "      <td>0</td>\n",
       "      <td>0</td>\n",
       "      <td>0</td>\n",
       "    </tr>\n",
       "    <tr>\n",
       "      <th>9847</th>\n",
       "      <td>C1</td>\n",
       "      <td>1443</td>\n",
       "      <td>0</td>\n",
       "      <td>1</td>\n",
       "      <td>53</td>\n",
       "      <td>53</td>\n",
       "      <td>0</td>\n",
       "      <td>15</td>\n",
       "      <td>3.0</td>\n",
       "      <td>13</td>\n",
       "      <td>...</td>\n",
       "      <td>0</td>\n",
       "      <td>0</td>\n",
       "      <td>0</td>\n",
       "      <td>0</td>\n",
       "      <td>0</td>\n",
       "      <td>1</td>\n",
       "      <td>0</td>\n",
       "      <td>0</td>\n",
       "      <td>0</td>\n",
       "      <td>0</td>\n",
       "    </tr>\n",
       "    <tr>\n",
       "      <th>9848</th>\n",
       "      <td>C7</td>\n",
       "      <td>1476</td>\n",
       "      <td>1</td>\n",
       "      <td>0</td>\n",
       "      <td>56</td>\n",
       "      <td>47</td>\n",
       "      <td>1</td>\n",
       "      <td>15</td>\n",
       "      <td>3.0</td>\n",
       "      <td>10</td>\n",
       "      <td>...</td>\n",
       "      <td>0</td>\n",
       "      <td>0</td>\n",
       "      <td>1</td>\n",
       "      <td>0</td>\n",
       "      <td>0</td>\n",
       "      <td>0</td>\n",
       "      <td>0</td>\n",
       "      <td>0</td>\n",
       "      <td>0</td>\n",
       "      <td>0</td>\n",
       "    </tr>\n",
       "  </tbody>\n",
       "</table>\n",
       "<p>9849 rows × 21 columns</p>\n",
       "</div>"
      ],
      "text/plain": [
       "     City_Code  Region_Code  Accomodation_Type  Reco_Insurance_Type  \\\n",
       "0           C3           64                  1                    1   \n",
       "1           C3         2955                  1                    1   \n",
       "2           C1         1542                  0                    1   \n",
       "3          C26          772                  0                    1   \n",
       "4           C2         1510                  1                    0   \n",
       "...        ...          ...                ...                  ...   \n",
       "9844        C3           13                  1                    0   \n",
       "9845        C5         1477                  0                    1   \n",
       "9846        C1         2357                  1                    1   \n",
       "9847        C1         1443                  0                    1   \n",
       "9848        C7         1476                  1                    0   \n",
       "\n",
       "      Upper_Age  Lower_Age  Is_Spouse  Holding_Policy_Duration  \\\n",
       "0            36         36          0                       15   \n",
       "1            66         66          0                       10   \n",
       "2            24         24          0                        3   \n",
       "3            75         75          0                        1   \n",
       "4            59         58          1                       15   \n",
       "...         ...        ...        ...                      ...   \n",
       "9844         47         40          1                       15   \n",
       "9845         34         34          0                        6   \n",
       "9846         64         64          0                        8   \n",
       "9847         53         53          0                       15   \n",
       "9848         56         47          1                       15   \n",
       "\n",
       "      Holding_Policy_Type  Reco_Policy_Cat  ...  Response  X1  X2  X3  X4  X5  \\\n",
       "0                     2.0               16  ...         0   1   0   0   0   0   \n",
       "1                     1.0               19  ...         0   0   0   0   0   0   \n",
       "2                     1.0               16  ...         0   1   0   0   0   0   \n",
       "3                     3.0               16  ...         0   1   0   0   0   0   \n",
       "4                     4.0               17  ...         0   1   0   0   0   0   \n",
       "...                   ...              ...  ...       ...  ..  ..  ..  ..  ..   \n",
       "9844                  3.0               19  ...         1   0   0   0   0   1   \n",
       "9845                  1.0                4  ...         0   1   0   0   0   0   \n",
       "9846                  2.0               19  ...         0   1   0   0   0   0   \n",
       "9847                  3.0               13  ...         0   0   0   0   0   1   \n",
       "9848                  3.0               10  ...         0   0   1   0   0   0   \n",
       "\n",
       "      X6  X7  X8  X9  \n",
       "0      0   0   0   0  \n",
       "1      1   0   0   0  \n",
       "2      0   0   0   0  \n",
       "3      0   0   0   0  \n",
       "4      0   0   0   0  \n",
       "...   ..  ..  ..  ..  \n",
       "9844   0   0   0   0  \n",
       "9845   0   0   0   0  \n",
       "9846   0   0   0   0  \n",
       "9847   0   0   0   0  \n",
       "9848   0   0   0   0  \n",
       "\n",
       "[9849 rows x 21 columns]"
      ]
     },
     "execution_count": 3,
     "metadata": {},
     "output_type": "execute_result"
    }
   ],
   "source": [
    "data = pd.read_csv(\"C:\\\\Users\\\\saism\\\\Documents\\\\Projects\\\\ML Project\\\\1426201-Task_-_2_(EDA)\\\\Task - 2 (EDA)\\\\train_clean2.csv\")\n",
    "data"
   ]
  },
  {
   "cell_type": "code",
   "execution_count": 4,
   "id": "a3fedc68",
   "metadata": {},
   "outputs": [
    {
     "data": {
      "text/plain": [
       "(9849, 21)"
      ]
     },
     "execution_count": 4,
     "metadata": {},
     "output_type": "execute_result"
    }
   ],
   "source": [
    "# Check the shape of the dataframe\n",
    "data.shape\n"
   ]
  },
  {
   "cell_type": "code",
   "execution_count": 5,
   "id": "4eca48d3",
   "metadata": {},
   "outputs": [
    {
     "data": {
      "text/plain": [
       "0    7423\n",
       "1    2426\n",
       "Name: Response, dtype: int64"
      ]
     },
     "execution_count": 5,
     "metadata": {},
     "output_type": "execute_result"
    }
   ],
   "source": [
    "data['Response'].value_counts()"
   ]
  },
  {
   "cell_type": "markdown",
   "id": "6cf30c54",
   "metadata": {},
   "source": [
    "## Observe that 26.5% datapoints belong to one class rest all belongs to other class. Clearly dataset is having high imbalance.\n",
    "\n",
    "**To Do:**\n",
    "1. Read about Oversampling and Undersampling.\n",
    "2. Perform undersampling."
   ]
  },
  {
   "cell_type": "markdown",
   "id": "88c3a37f",
   "metadata": {},
   "source": [
    "## Train Test Split\n",
    "\n",
    "**To Do:**\n",
    "1. Sandardise the data\n",
    "2. Perform 80-20 split"
   ]
  },
  {
   "cell_type": "markdown",
   "id": "a85d0ae3",
   "metadata": {},
   "source": [
    "## Model Building - Logistic Regression, SVM, KNN, DT, RF, Gradient Boosting, AdaBoosting etc\n",
    "\n",
    "For all the algorithms mentioned above, perform below mentioned steps.\n",
    "\n",
    "**To Do:**\n",
    "1. Train the Model using `Accuracy` as the evaluation metric\n",
    "2. Predict\n",
    "3. Evaluate use Accuracy, Confusion Matrix, Precision & Recall, F1-score and ROC AUC to understand model performance\n",
    "4. Compare the perormance of all the models"
   ]
  },
  {
   "cell_type": "code",
   "execution_count": 6,
   "id": "fc140a01",
   "metadata": {},
   "outputs": [],
   "source": [
    "X = data.drop(['Response'],axis=1)\n",
    "y = data['Response']"
   ]
  },
  {
   "cell_type": "code",
   "execution_count": 7,
   "id": "23b217ce",
   "metadata": {},
   "outputs": [],
   "source": [
    "from collections import Counter\n"
   ]
  },
  {
   "cell_type": "code",
   "execution_count": 8,
   "id": "41677361",
   "metadata": {},
   "outputs": [],
   "source": [
    "from imblearn.under_sampling import RandomUnderSampler\n",
    "RS = RandomUnderSampler()\n",
    "X_RS,y_RS = RS.fit_resample(X,y)"
   ]
  },
  {
   "cell_type": "code",
   "execution_count": 9,
   "id": "64702d63",
   "metadata": {},
   "outputs": [
    {
     "data": {
      "text/plain": [
       "0    2426\n",
       "1    2426\n",
       "Name: Response, dtype: int64"
      ]
     },
     "execution_count": 9,
     "metadata": {},
     "output_type": "execute_result"
    }
   ],
   "source": [
    "y_RS.value_counts()\n"
   ]
  },
  {
   "cell_type": "code",
   "execution_count": 10,
   "id": "27adf1cd",
   "metadata": {},
   "outputs": [
    {
     "data": {
      "text/html": [
       "<div>\n",
       "<style scoped>\n",
       "    .dataframe tbody tr th:only-of-type {\n",
       "        vertical-align: middle;\n",
       "    }\n",
       "\n",
       "    .dataframe tbody tr th {\n",
       "        vertical-align: top;\n",
       "    }\n",
       "\n",
       "    .dataframe thead th {\n",
       "        text-align: right;\n",
       "    }\n",
       "</style>\n",
       "<table border=\"1\" class=\"dataframe\">\n",
       "  <thead>\n",
       "    <tr style=\"text-align: right;\">\n",
       "      <th></th>\n",
       "      <th>City_Code</th>\n",
       "      <th>Region_Code</th>\n",
       "      <th>Accomodation_Type</th>\n",
       "      <th>Reco_Insurance_Type</th>\n",
       "      <th>Upper_Age</th>\n",
       "      <th>Lower_Age</th>\n",
       "      <th>Is_Spouse</th>\n",
       "      <th>Holding_Policy_Duration</th>\n",
       "      <th>Holding_Policy_Type</th>\n",
       "      <th>Reco_Policy_Cat</th>\n",
       "      <th>Reco_Policy_Premium</th>\n",
       "      <th>X1</th>\n",
       "      <th>X2</th>\n",
       "      <th>X3</th>\n",
       "      <th>X4</th>\n",
       "      <th>X5</th>\n",
       "      <th>X6</th>\n",
       "      <th>X7</th>\n",
       "      <th>X8</th>\n",
       "      <th>X9</th>\n",
       "    </tr>\n",
       "  </thead>\n",
       "  <tbody>\n",
       "    <tr>\n",
       "      <th>0</th>\n",
       "      <td>C1</td>\n",
       "      <td>500</td>\n",
       "      <td>1</td>\n",
       "      <td>1</td>\n",
       "      <td>49</td>\n",
       "      <td>49</td>\n",
       "      <td>0</td>\n",
       "      <td>15</td>\n",
       "      <td>3.0</td>\n",
       "      <td>18</td>\n",
       "      <td>11180.0</td>\n",
       "      <td>0</td>\n",
       "      <td>1</td>\n",
       "      <td>0</td>\n",
       "      <td>0</td>\n",
       "      <td>0</td>\n",
       "      <td>0</td>\n",
       "      <td>0</td>\n",
       "      <td>0</td>\n",
       "      <td>0</td>\n",
       "    </tr>\n",
       "    <tr>\n",
       "      <th>1</th>\n",
       "      <td>C1</td>\n",
       "      <td>217</td>\n",
       "      <td>0</td>\n",
       "      <td>1</td>\n",
       "      <td>25</td>\n",
       "      <td>25</td>\n",
       "      <td>0</td>\n",
       "      <td>15</td>\n",
       "      <td>3.0</td>\n",
       "      <td>20</td>\n",
       "      <td>9680.0</td>\n",
       "      <td>1</td>\n",
       "      <td>0</td>\n",
       "      <td>0</td>\n",
       "      <td>0</td>\n",
       "      <td>0</td>\n",
       "      <td>0</td>\n",
       "      <td>0</td>\n",
       "      <td>0</td>\n",
       "      <td>0</td>\n",
       "    </tr>\n",
       "    <tr>\n",
       "      <th>2</th>\n",
       "      <td>C2</td>\n",
       "      <td>1950</td>\n",
       "      <td>1</td>\n",
       "      <td>1</td>\n",
       "      <td>50</td>\n",
       "      <td>50</td>\n",
       "      <td>0</td>\n",
       "      <td>1</td>\n",
       "      <td>3.0</td>\n",
       "      <td>15</td>\n",
       "      <td>11250.0</td>\n",
       "      <td>1</td>\n",
       "      <td>0</td>\n",
       "      <td>0</td>\n",
       "      <td>0</td>\n",
       "      <td>0</td>\n",
       "      <td>0</td>\n",
       "      <td>0</td>\n",
       "      <td>0</td>\n",
       "      <td>0</td>\n",
       "    </tr>\n",
       "    <tr>\n",
       "      <th>3</th>\n",
       "      <td>C4</td>\n",
       "      <td>1612</td>\n",
       "      <td>1</td>\n",
       "      <td>1</td>\n",
       "      <td>62</td>\n",
       "      <td>62</td>\n",
       "      <td>0</td>\n",
       "      <td>13</td>\n",
       "      <td>3.0</td>\n",
       "      <td>8</td>\n",
       "      <td>19968.0</td>\n",
       "      <td>0</td>\n",
       "      <td>0</td>\n",
       "      <td>0</td>\n",
       "      <td>1</td>\n",
       "      <td>0</td>\n",
       "      <td>0</td>\n",
       "      <td>0</td>\n",
       "      <td>0</td>\n",
       "      <td>0</td>\n",
       "    </tr>\n",
       "    <tr>\n",
       "      <th>4</th>\n",
       "      <td>C9</td>\n",
       "      <td>3320</td>\n",
       "      <td>1</td>\n",
       "      <td>1</td>\n",
       "      <td>43</td>\n",
       "      <td>43</td>\n",
       "      <td>0</td>\n",
       "      <td>15</td>\n",
       "      <td>3.0</td>\n",
       "      <td>22</td>\n",
       "      <td>10816.0</td>\n",
       "      <td>0</td>\n",
       "      <td>1</td>\n",
       "      <td>0</td>\n",
       "      <td>0</td>\n",
       "      <td>0</td>\n",
       "      <td>0</td>\n",
       "      <td>0</td>\n",
       "      <td>0</td>\n",
       "      <td>0</td>\n",
       "    </tr>\n",
       "  </tbody>\n",
       "</table>\n",
       "</div>"
      ],
      "text/plain": [
       "  City_Code  Region_Code  Accomodation_Type  Reco_Insurance_Type  Upper_Age  \\\n",
       "0        C1          500                  1                    1         49   \n",
       "1        C1          217                  0                    1         25   \n",
       "2        C2         1950                  1                    1         50   \n",
       "3        C4         1612                  1                    1         62   \n",
       "4        C9         3320                  1                    1         43   \n",
       "\n",
       "   Lower_Age  Is_Spouse  Holding_Policy_Duration  Holding_Policy_Type  \\\n",
       "0         49          0                       15                  3.0   \n",
       "1         25          0                       15                  3.0   \n",
       "2         50          0                        1                  3.0   \n",
       "3         62          0                       13                  3.0   \n",
       "4         43          0                       15                  3.0   \n",
       "\n",
       "   Reco_Policy_Cat  Reco_Policy_Premium  X1  X2  X3  X4  X5  X6  X7  X8  X9  \n",
       "0               18              11180.0   0   1   0   0   0   0   0   0   0  \n",
       "1               20               9680.0   1   0   0   0   0   0   0   0   0  \n",
       "2               15              11250.0   1   0   0   0   0   0   0   0   0  \n",
       "3                8              19968.0   0   0   0   1   0   0   0   0   0  \n",
       "4               22              10816.0   0   1   0   0   0   0   0   0   0  "
      ]
     },
     "execution_count": 10,
     "metadata": {},
     "output_type": "execute_result"
    }
   ],
   "source": [
    "X_RS.head()"
   ]
  },
  {
   "cell_type": "code",
   "execution_count": 12,
   "id": "6c39c39e",
   "metadata": {},
   "outputs": [
    {
     "data": {
      "text/plain": [
       "Index(['City_Code', 'Region_Code', 'Accomodation_Type', 'Reco_Insurance_Type',\n",
       "       'Upper_Age', 'Lower_Age', 'Is_Spouse', 'Holding_Policy_Duration',\n",
       "       'Holding_Policy_Type', 'Reco_Policy_Cat', 'Reco_Policy_Premium', 'X1',\n",
       "       'X2', 'X3', 'X4', 'X5', 'X6', 'X7', 'X8', 'X9'],\n",
       "      dtype='object')"
      ]
     },
     "execution_count": 12,
     "metadata": {},
     "output_type": "execute_result"
    }
   ],
   "source": [
    "X_RS.columns"
   ]
  },
  {
   "cell_type": "code",
   "execution_count": 13,
   "id": "ccbff70b",
   "metadata": {},
   "outputs": [],
   "source": [
    "from sklearn.preprocessing import StandardScaler\n",
    "sc = StandardScaler()"
   ]
  },
  {
   "cell_type": "code",
   "execution_count": 15,
   "id": "9c9445da",
   "metadata": {},
   "outputs": [],
   "source": [
    "X_RS[['Region_Code','Upper_Age', 'Lower_Age','Holding_Policy_Type','Holding_Policy_Duration', 'Reco_Policy_Cat','Reco_Policy_Premium']] = sc.fit_transform(X_RS[['Region_Code','Upper_Age', 'Lower_Age','Holding_Policy_Type', 'Holding_Policy_Duration','Reco_Policy_Cat','Reco_Policy_Premium']])\n"
   ]
  },
  {
   "cell_type": "code",
   "execution_count": 16,
   "id": "b9adf637",
   "metadata": {},
   "outputs": [
    {
     "data": {
      "text/html": [
       "<div>\n",
       "<style scoped>\n",
       "    .dataframe tbody tr th:only-of-type {\n",
       "        vertical-align: middle;\n",
       "    }\n",
       "\n",
       "    .dataframe tbody tr th {\n",
       "        vertical-align: top;\n",
       "    }\n",
       "\n",
       "    .dataframe thead th {\n",
       "        text-align: right;\n",
       "    }\n",
       "</style>\n",
       "<table border=\"1\" class=\"dataframe\">\n",
       "  <thead>\n",
       "    <tr style=\"text-align: right;\">\n",
       "      <th></th>\n",
       "      <th>City_Code</th>\n",
       "      <th>Region_Code</th>\n",
       "      <th>Accomodation_Type</th>\n",
       "      <th>Reco_Insurance_Type</th>\n",
       "      <th>Upper_Age</th>\n",
       "      <th>Lower_Age</th>\n",
       "      <th>Is_Spouse</th>\n",
       "      <th>Holding_Policy_Duration</th>\n",
       "      <th>Holding_Policy_Type</th>\n",
       "      <th>Reco_Policy_Cat</th>\n",
       "      <th>Reco_Policy_Premium</th>\n",
       "      <th>X1</th>\n",
       "      <th>X2</th>\n",
       "      <th>X3</th>\n",
       "      <th>X4</th>\n",
       "      <th>X5</th>\n",
       "      <th>X6</th>\n",
       "      <th>X7</th>\n",
       "      <th>X8</th>\n",
       "      <th>X9</th>\n",
       "    </tr>\n",
       "  </thead>\n",
       "  <tbody>\n",
       "    <tr>\n",
       "      <th>0</th>\n",
       "      <td>C1</td>\n",
       "      <td>-0.851807</td>\n",
       "      <td>1</td>\n",
       "      <td>1</td>\n",
       "      <td>0.275501</td>\n",
       "      <td>0.385452</td>\n",
       "      <td>0</td>\n",
       "      <td>0.918760</td>\n",
       "      <td>0.407927</td>\n",
       "      <td>0.408441</td>\n",
       "      <td>-0.444263</td>\n",
       "      <td>0</td>\n",
       "      <td>1</td>\n",
       "      <td>0</td>\n",
       "      <td>0</td>\n",
       "      <td>0</td>\n",
       "      <td>0</td>\n",
       "      <td>0</td>\n",
       "      <td>0</td>\n",
       "      <td>0</td>\n",
       "    </tr>\n",
       "    <tr>\n",
       "      <th>1</th>\n",
       "      <td>C1</td>\n",
       "      <td>-1.050558</td>\n",
       "      <td>0</td>\n",
       "      <td>1</td>\n",
       "      <td>-1.135422</td>\n",
       "      <td>-1.012404</td>\n",
       "      <td>0</td>\n",
       "      <td>0.918760</td>\n",
       "      <td>0.407927</td>\n",
       "      <td>0.739534</td>\n",
       "      <td>-0.693798</td>\n",
       "      <td>1</td>\n",
       "      <td>0</td>\n",
       "      <td>0</td>\n",
       "      <td>0</td>\n",
       "      <td>0</td>\n",
       "      <td>0</td>\n",
       "      <td>0</td>\n",
       "      <td>0</td>\n",
       "      <td>0</td>\n",
       "    </tr>\n",
       "    <tr>\n",
       "      <th>2</th>\n",
       "      <td>C2</td>\n",
       "      <td>0.166524</td>\n",
       "      <td>1</td>\n",
       "      <td>1</td>\n",
       "      <td>0.334290</td>\n",
       "      <td>0.443696</td>\n",
       "      <td>0</td>\n",
       "      <td>-1.558596</td>\n",
       "      <td>0.407927</td>\n",
       "      <td>-0.088198</td>\n",
       "      <td>-0.432618</td>\n",
       "      <td>1</td>\n",
       "      <td>0</td>\n",
       "      <td>0</td>\n",
       "      <td>0</td>\n",
       "      <td>0</td>\n",
       "      <td>0</td>\n",
       "      <td>0</td>\n",
       "      <td>0</td>\n",
       "      <td>0</td>\n",
       "    </tr>\n",
       "    <tr>\n",
       "      <th>3</th>\n",
       "      <td>C4</td>\n",
       "      <td>-0.070852</td>\n",
       "      <td>1</td>\n",
       "      <td>1</td>\n",
       "      <td>1.039752</td>\n",
       "      <td>1.142624</td>\n",
       "      <td>0</td>\n",
       "      <td>0.564852</td>\n",
       "      <td>0.407927</td>\n",
       "      <td>-1.247024</td>\n",
       "      <td>1.017676</td>\n",
       "      <td>0</td>\n",
       "      <td>0</td>\n",
       "      <td>0</td>\n",
       "      <td>1</td>\n",
       "      <td>0</td>\n",
       "      <td>0</td>\n",
       "      <td>0</td>\n",
       "      <td>0</td>\n",
       "      <td>0</td>\n",
       "    </tr>\n",
       "    <tr>\n",
       "      <th>4</th>\n",
       "      <td>C9</td>\n",
       "      <td>1.128673</td>\n",
       "      <td>1</td>\n",
       "      <td>1</td>\n",
       "      <td>-0.077230</td>\n",
       "      <td>0.035988</td>\n",
       "      <td>0</td>\n",
       "      <td>0.918760</td>\n",
       "      <td>0.407927</td>\n",
       "      <td>1.070627</td>\n",
       "      <td>-0.504817</td>\n",
       "      <td>0</td>\n",
       "      <td>1</td>\n",
       "      <td>0</td>\n",
       "      <td>0</td>\n",
       "      <td>0</td>\n",
       "      <td>0</td>\n",
       "      <td>0</td>\n",
       "      <td>0</td>\n",
       "      <td>0</td>\n",
       "    </tr>\n",
       "  </tbody>\n",
       "</table>\n",
       "</div>"
      ],
      "text/plain": [
       "  City_Code  Region_Code  Accomodation_Type  Reco_Insurance_Type  Upper_Age  \\\n",
       "0        C1    -0.851807                  1                    1   0.275501   \n",
       "1        C1    -1.050558                  0                    1  -1.135422   \n",
       "2        C2     0.166524                  1                    1   0.334290   \n",
       "3        C4    -0.070852                  1                    1   1.039752   \n",
       "4        C9     1.128673                  1                    1  -0.077230   \n",
       "\n",
       "   Lower_Age  Is_Spouse  Holding_Policy_Duration  Holding_Policy_Type  \\\n",
       "0   0.385452          0                 0.918760             0.407927   \n",
       "1  -1.012404          0                 0.918760             0.407927   \n",
       "2   0.443696          0                -1.558596             0.407927   \n",
       "3   1.142624          0                 0.564852             0.407927   \n",
       "4   0.035988          0                 0.918760             0.407927   \n",
       "\n",
       "   Reco_Policy_Cat  Reco_Policy_Premium  X1  X2  X3  X4  X5  X6  X7  X8  X9  \n",
       "0         0.408441            -0.444263   0   1   0   0   0   0   0   0   0  \n",
       "1         0.739534            -0.693798   1   0   0   0   0   0   0   0   0  \n",
       "2        -0.088198            -0.432618   1   0   0   0   0   0   0   0   0  \n",
       "3        -1.247024             1.017676   0   0   0   1   0   0   0   0   0  \n",
       "4         1.070627            -0.504817   0   1   0   0   0   0   0   0   0  "
      ]
     },
     "execution_count": 16,
     "metadata": {},
     "output_type": "execute_result"
    }
   ],
   "source": [
    "X_RS.head()"
   ]
  },
  {
   "cell_type": "markdown",
   "id": "72c4ee28",
   "metadata": {},
   "source": [
    "### Dropping City Code"
   ]
  },
  {
   "cell_type": "code",
   "execution_count": 17,
   "id": "4a53f4eb",
   "metadata": {},
   "outputs": [],
   "source": [
    "X_RS.drop('City_Code',axis=1,inplace=True)"
   ]
  },
  {
   "cell_type": "code",
   "execution_count": 18,
   "id": "a5166672",
   "metadata": {},
   "outputs": [],
   "source": [
    "X_RS.to_csv('X_final.csv',index=False)\n",
    "y_RS.to_csv('y_final.csv',index=False)"
   ]
  },
  {
   "cell_type": "markdown",
   "id": "d3900653",
   "metadata": {},
   "source": [
    "### Train Test Split"
   ]
  },
  {
   "cell_type": "code",
   "execution_count": 23,
   "id": "a5ea3c8b",
   "metadata": {},
   "outputs": [],
   "source": [
    "from sklearn.model_selection import train_test_split\n",
    "X_train, X_test, y_train, y_test = train_test_split(X_RS, y_RS, test_size=0.2, random_state=42)"
   ]
  },
  {
   "cell_type": "markdown",
   "id": "cf2bdbfe",
   "metadata": {},
   "source": [
    "## Model"
   ]
  },
  {
   "cell_type": "markdown",
   "id": "115005d3",
   "metadata": {},
   "source": [
    "### Logistic Regression"
   ]
  },
  {
   "cell_type": "code",
   "execution_count": 25,
   "id": "48bc62af",
   "metadata": {},
   "outputs": [],
   "source": [
    "### Train Data"
   ]
  },
  {
   "cell_type": "code",
   "execution_count": 26,
   "id": "3121a1e5",
   "metadata": {},
   "outputs": [],
   "source": [
    "from sklearn.linear_model import LogisticRegression\n",
    "lr = LogisticRegression()\n",
    "lr.fit(X_train,y_train)\n",
    "y_pred = lr.predict(X_train)"
   ]
  },
  {
   "cell_type": "code",
   "execution_count": 28,
   "id": "f344683d",
   "metadata": {},
   "outputs": [
    {
     "name": "stdout",
     "output_type": "stream",
     "text": [
      "Accuracy Score => 0.5467662973460449\n",
      "Precision Score => 0.5431942688579857\n",
      "F-1 score => 0.5944201060640996\n",
      "Confusion matrix =>\n",
      " [[ 833 1084]\n",
      " [ 675 1289]]\n",
      "Recall score 0.6563136456211812\n"
     ]
    }
   ],
   "source": [
    "from sklearn.metrics import accuracy_score,precision_score,f1_score,confusion_matrix,recall_score\n",
    "print('Accuracy Score =>',accuracy_score(y_train,y_pred))\n",
    "print('Precision Score =>',precision_score(y_train,y_pred))\n",
    "print('F-1 score =>',f1_score(y_train,y_pred))\n",
    "print('Confusion matrix =>\\n',confusion_matrix(y_train,y_pred))\n",
    "print('Recall score',recall_score(y_train,y_pred))"
   ]
  },
  {
   "cell_type": "code",
   "execution_count": 29,
   "id": "897d20ae",
   "metadata": {},
   "outputs": [],
   "source": [
    "### Test Data"
   ]
  },
  {
   "cell_type": "code",
   "execution_count": 30,
   "id": "f6446d09",
   "metadata": {},
   "outputs": [],
   "source": [
    "from sklearn.linear_model import LogisticRegression\n",
    "lr = LogisticRegression()\n",
    "lr.fit(X_train,y_train)\n",
    "y_pred = lr.predict(X_test)"
   ]
  },
  {
   "cell_type": "code",
   "execution_count": 31,
   "id": "c6ec5fa1",
   "metadata": {},
   "outputs": [
    {
     "name": "stdout",
     "output_type": "stream",
     "text": [
      "Accuracy Score => 0.5365602471678682\n",
      "Precision Score => 0.5106382978723404\n",
      "F-1 score => 0.5614035087719297\n",
      "Confusion matrix =>\n",
      " [[233 276]\n",
      " [174 288]]\n",
      "Recall score 0.6233766233766234\n"
     ]
    }
   ],
   "source": [
    "from sklearn.metrics import accuracy_score,precision_score,f1_score,confusion_matrix,recall_score\n",
    "print('Accuracy Score =>',accuracy_score(y_test,y_pred))\n",
    "print('Precision Score =>',precision_score(y_test,y_pred))\n",
    "print('F-1 score =>',f1_score(y_test,y_pred))\n",
    "print('Confusion matrix =>\\n',confusion_matrix(y_test,y_pred))\n",
    "print('Recall score',recall_score(y_test,y_pred))"
   ]
  },
  {
   "cell_type": "code",
   "execution_count": 32,
   "id": "4754b611",
   "metadata": {},
   "outputs": [
    {
     "data": {
      "text/plain": [
       "array([[0.44338692, 0.55661308],\n",
       "       [0.37342873, 0.62657127],\n",
       "       [0.54265309, 0.45734691],\n",
       "       ...,\n",
       "       [0.47236158, 0.52763842],\n",
       "       [0.48489255, 0.51510745],\n",
       "       [0.64282689, 0.35717311]])"
      ]
     },
     "execution_count": 32,
     "metadata": {},
     "output_type": "execute_result"
    }
   ],
   "source": [
    "y_pred_proba= lr.predict_proba(X_test)\n",
    "y_pred_proba"
   ]
  },
  {
   "cell_type": "code",
   "execution_count": 34,
   "id": "037ee67b",
   "metadata": {
    "scrolled": true
   },
   "outputs": [
    {
     "data": {
      "image/png": "[encoded data removed]",
      "text/plain": [
       "<Figure size 720x504 with 1 Axes>"
      ]
     },
     "metadata": {
      "needs_background": "light"
     },
     "output_type": "display_data"
    },
    {
     "name": "stdout",
     "output_type": "stream",
     "text": [
      "Logistic Regression AUC is => 0.5483674805875198\n"
     ]
    }
   ],
   "source": [
    "from sklearn.metrics import roc_curve,roc_auc_score\n",
    "\n",
    "plt.figure(figsize=(10,7))\n",
    "\n",
    "ns_prob = [0 for _ in range(len(y_test))]  # bad algo\n",
    "ns_fpr,ns_tpr,thresholds = roc_curve(y_test,ns_prob)\n",
    "\n",
    "lr_prob = y_pred_proba[:,1]\n",
    "lr_auc = roc_auc_score(y_test,lr_prob)   \n",
    "lr_fpr,lr_tpr,thesholds = roc_curve(y_test,lr_prob)\n",
    "plt.plot(lr_fpr,lr_tpr,marker='.',label='Logistic Regression')\n",
    "plt.plot(ns_fpr,ns_tpr,marker='.',label='Bad Random Algo')\n",
    "plt.xlabel('False Positive Rate')\n",
    "plt.ylabel('True Positive Rate')\n",
    "plt.legend()\n",
    "plt.show()\n",
    "\n",
    "print(f'Logistic Regression AUC is => {lr_auc}')"
   ]
  },
  {
   "cell_type": "markdown",
   "id": "6d8b3e42",
   "metadata": {},
   "source": [
    "### Accuracy of Logistic Regression is  0.5483674805875198"
   ]
  },
  {
   "cell_type": "markdown",
   "id": "b7681fd4",
   "metadata": {},
   "source": [
    "## KNN"
   ]
  },
  {
   "cell_type": "code",
   "execution_count": 37,
   "id": "c6f9981c",
   "metadata": {},
   "outputs": [],
   "source": [
    "### Train"
   ]
  },
  {
   "cell_type": "code",
   "execution_count": 38,
   "id": "9e4bd6fc",
   "metadata": {},
   "outputs": [],
   "source": [
    "from sklearn.neighbors import KNeighborsClassifier\n",
    "knn = KNeighborsClassifier()\n",
    "knn.fit(X_train,y_train)\n",
    "y_pred = knn.predict(X_train)"
   ]
  },
  {
   "cell_type": "code",
   "execution_count": 39,
   "id": "fa11190b",
   "metadata": {},
   "outputs": [
    {
     "name": "stdout",
     "output_type": "stream",
     "text": [
      "Accuracy => 0.698788971914455\n",
      "Precision => 0.6930548810101991\n",
      "F-1 score => 0.7094208302261994\n",
      "Confusion matrix =>\n",
      " [[1285  632]\n",
      " [ 537 1427]]\n",
      "Recall score 0.7265784114052953\n"
     ]
    }
   ],
   "source": [
    "from sklearn.metrics import accuracy_score,precision_score,f1_score,confusion_matrix,recall_score\n",
    "print('Accuracy =>',accuracy_score(y_train,y_pred))\n",
    "print('Precision =>',precision_score(y_train,y_pred))\n",
    "print('F-1 score =>',f1_score(y_train,y_pred))\n",
    "print('Confusion matrix =>\\n',confusion_matrix(y_train,y_pred))\n",
    "print('Recall score',recall_score(y_train,y_pred))"
   ]
  },
  {
   "cell_type": "code",
   "execution_count": 40,
   "id": "41742a76",
   "metadata": {},
   "outputs": [],
   "source": [
    "### Test Data"
   ]
  },
  {
   "cell_type": "code",
   "execution_count": 41,
   "id": "7bce0a1b",
   "metadata": {},
   "outputs": [],
   "source": [
    "from sklearn.neighbors import KNeighborsClassifier\n",
    "knn = KNeighborsClassifier()\n",
    "knn.fit(X_train,y_train)\n",
    "y_pred = knn.predict(X_test)"
   ]
  },
  {
   "cell_type": "code",
   "execution_count": 42,
   "id": "90021cbc",
   "metadata": {},
   "outputs": [
    {
     "name": "stdout",
     "output_type": "stream",
     "text": [
      "Accuracy => 0.5087538619979403\n",
      "Precision => 0.4853801169590643\n",
      "F-1 score => 0.5107692307692308\n",
      "Confusion matrix =>\n",
      " [[245 264]\n",
      " [213 249]]\n",
      "Recall score 0.538961038961039\n"
     ]
    }
   ],
   "source": [
    "print('Accuracy =>',accuracy_score(y_test,y_pred))\n",
    "print('Precision =>',precision_score(y_test,y_pred))\n",
    "print('F-1 score =>',f1_score(y_test,y_pred))\n",
    "print('Confusion matrix =>\\n',confusion_matrix(y_test,y_pred))\n",
    "print('Recall score',recall_score(y_test,y_pred))"
   ]
  },
  {
   "cell_type": "markdown",
   "id": "3a8b5041",
   "metadata": {},
   "source": [
    "#### AUC ROC Curve"
   ]
  },
  {
   "cell_type": "code",
   "execution_count": 43,
   "id": "cfb0940c",
   "metadata": {},
   "outputs": [
    {
     "data": {
      "text/plain": [
       "array([[0.2, 0.8],\n",
       "       [0.2, 0.8],\n",
       "       [0.2, 0.8],\n",
       "       ...,\n",
       "       [0.4, 0.6],\n",
       "       [0.2, 0.8],\n",
       "       [0.8, 0.2]])"
      ]
     },
     "execution_count": 43,
     "metadata": {},
     "output_type": "execute_result"
    }
   ],
   "source": [
    "y_pred_proba_knn = knn.predict_proba(X_test)\n",
    "y_pred_proba_knn"
   ]
  },
  {
   "cell_type": "code",
   "execution_count": 44,
   "id": "c705df04",
   "metadata": {},
   "outputs": [
    {
     "data": {
      "image/png": "[encoded data removed]",
      "text/plain": [
       "<Figure size 720x504 with 1 Axes>"
      ]
     },
     "metadata": {
      "needs_background": "light"
     },
     "output_type": "display_data"
    }
   ],
   "source": [
    "from sklearn.metrics import roc_curve,roc_auc_score\n",
    "\n",
    "plt.figure(figsize=(10,7))\n",
    "\n",
    "ns_prob = [0 for _ in range(len(y_test))] \n",
    "ns_fpr,ns_tpr,thresholds = roc_curve(y_test,ns_prob)\n",
    "\n",
    "knn_prob = y_pred_proba_knn[:,1]\n",
    "knn_auc = roc_auc_score(y_test,knn_prob)  \n",
    "knn_fpr,knn_tpr,thesholds = roc_curve(y_test,knn_prob)\n",
    "plt.plot(knn_fpr,knn_tpr,marker='.',label='KNN')\n",
    "plt.plot(ns_fpr,ns_tpr,marker='.',label='Bad Random Algo')\n",
    "plt.xlabel('False Positive Rate')\n",
    "plt.ylabel('True Positive Rate')\n",
    "plt.legend()\n",
    "plt.show()"
   ]
  },
  {
   "cell_type": "code",
   "execution_count": 46,
   "id": "714051a9",
   "metadata": {},
   "outputs": [
    {
     "name": "stdout",
     "output_type": "stream",
     "text": [
      "KNN Accuracy  is => 0.516812100800313\n"
     ]
    }
   ],
   "source": [
    "print(f'KNN Accuracy  is => {knn_auc}')\n"
   ]
  },
  {
   "cell_type": "markdown",
   "id": "91ee671e",
   "metadata": {},
   "source": [
    "## SVC"
   ]
  },
  {
   "cell_type": "markdown",
   "id": "b65b7b80",
   "metadata": {},
   "source": [
    "#### Train Data"
   ]
  },
  {
   "cell_type": "code",
   "execution_count": 47,
   "id": "598dbdab",
   "metadata": {},
   "outputs": [],
   "source": [
    "from sklearn.svm import SVC\n",
    "svc = SVC()\n",
    "svc.fit(X_train,y_train)\n",
    "y_pred = svc.predict(X_train)"
   ]
  },
  {
   "cell_type": "code",
   "execution_count": 48,
   "id": "b76f5de1",
   "metadata": {},
   "outputs": [
    {
     "name": "stdout",
     "output_type": "stream",
     "text": [
      "Accuracy => 0.616851326977583\n",
      "Precision => 0.585087406350339\n",
      "F-1 score => 0.6880637717642123\n",
      "Confusion matrix =>\n",
      " [[ 754 1163]\n",
      " [ 324 1640]]\n",
      "Recall score 0.835030549898167\n"
     ]
    }
   ],
   "source": [
    "from sklearn.metrics import accuracy_score,precision_score,f1_score,confusion_matrix,recall_score\n",
    "print('Accuracy =>',accuracy_score(y_train,y_pred))\n",
    "print('Precision =>',precision_score(y_train,y_pred))\n",
    "print('F-1 score =>',f1_score(y_train,y_pred))\n",
    "print('Confusion matrix =>\\n',confusion_matrix(y_train,y_pred))\n",
    "print('Recall score',recall_score(y_train,y_pred))"
   ]
  },
  {
   "cell_type": "code",
   "execution_count": 49,
   "id": "92680f5c",
   "metadata": {},
   "outputs": [],
   "source": [
    "### Test"
   ]
  },
  {
   "cell_type": "code",
   "execution_count": 50,
   "id": "30e6fd46",
   "metadata": {},
   "outputs": [],
   "source": [
    "from sklearn.svm import SVC\n",
    "svc = SVC(probability=True)\n",
    "svc.fit(X_train,y_train)\n",
    "y_pred = svc.predict(X_test)"
   ]
  },
  {
   "cell_type": "code",
   "execution_count": 51,
   "id": "8c070a19",
   "metadata": {},
   "outputs": [
    {
     "name": "stdout",
     "output_type": "stream",
     "text": [
      "Accuracy => 0.5242018537590113\n",
      "Precision => 0.5\n",
      "F-1 score => 0.5961538461538461\n",
      "Confusion matrix =>\n",
      " [[168 341]\n",
      " [121 341]]\n",
      "Recall score 0.7380952380952381\n"
     ]
    }
   ],
   "source": [
    "print('Accuracy =>',accuracy_score(y_test,y_pred))\n",
    "print('Precision =>',precision_score(y_test,y_pred))\n",
    "print('F-1 score =>',f1_score(y_test,y_pred))\n",
    "print('Confusion matrix =>\\n',confusion_matrix(y_test,y_pred))\n",
    "print('Recall score',recall_score(y_test,y_pred))"
   ]
  },
  {
   "cell_type": "markdown",
   "id": "0a77240f",
   "metadata": {},
   "source": [
    "### AUC Curve"
   ]
  },
  {
   "cell_type": "code",
   "execution_count": 52,
   "id": "099e1e21",
   "metadata": {},
   "outputs": [
    {
     "data": {
      "text/plain": [
       "array([[0.47311073, 0.52688927],\n",
       "       [0.41441733, 0.58558267],\n",
       "       [0.53548115, 0.46451885],\n",
       "       ...,\n",
       "       [0.44827335, 0.55172665],\n",
       "       [0.41878493, 0.58121507],\n",
       "       [0.62675314, 0.37324686]])"
      ]
     },
     "execution_count": 52,
     "metadata": {},
     "output_type": "execute_result"
    }
   ],
   "source": [
    "y_pred_proba_svc = svc.predict_proba(X_test)\n",
    "y_pred_proba_svc"
   ]
  },
  {
   "cell_type": "code",
   "execution_count": 53,
   "id": "fd40f22a",
   "metadata": {},
   "outputs": [
    {
     "data": {
      "image/png": "[encoded data removed]",
      "text/plain": [
       "<Figure size 720x504 with 1 Axes>"
      ]
     },
     "metadata": {
      "needs_background": "light"
     },
     "output_type": "display_data"
    }
   ],
   "source": [
    "from sklearn.metrics import roc_curve,roc_auc_score\n",
    "\n",
    "plt.figure(figsize=(10,7))\n",
    "\n",
    "ns_prob = [0 for _ in range(len(y_test))]  # bad algo\n",
    "ns_fpr,ns_tpr,thresholds = roc_curve(y_test,ns_prob)\n",
    "\n",
    "svc_prob = y_pred_proba_svc[:,1]\n",
    "svc_auc = roc_auc_score(y_test,svc_prob)   \n",
    "svc_fpr,svc_tpr,thesholds = roc_curve(y_test,svc_prob)\n",
    "plt.plot(svc_fpr,svc_tpr,marker='.',label='SVC')\n",
    "plt.plot(ns_fpr,ns_tpr,marker='.',label='Bad Random Algo')\n",
    "plt.xlabel('False Positive Rate')\n",
    "plt.ylabel('True Positive Rate')\n",
    "plt.legend()\n",
    "plt.show()"
   ]
  },
  {
   "cell_type": "code",
   "execution_count": 54,
   "id": "e1c5104e",
   "metadata": {},
   "outputs": [
    {
     "name": "stdout",
     "output_type": "stream",
     "text": [
      "SVC Accuracy is => 0.5408172377720512\n"
     ]
    }
   ],
   "source": [
    "print(f'SVC Accuracy is => {svc_auc}')\n"
   ]
  },
  {
   "cell_type": "markdown",
   "id": "e53c4f88",
   "metadata": {},
   "source": [
    "## Decision Tree"
   ]
  },
  {
   "cell_type": "markdown",
   "id": "497d2e87",
   "metadata": {},
   "source": [
    "#### Train Data"
   ]
  },
  {
   "cell_type": "code",
   "execution_count": 56,
   "id": "65c230c3",
   "metadata": {},
   "outputs": [],
   "source": [
    "from sklearn.tree import DecisionTreeClassifier\n",
    "dt = DecisionTreeClassifier()\n",
    "dt.fit(X_train,y_train)\n",
    "y_pred = dt.predict(X_train)"
   ]
  },
  {
   "cell_type": "code",
   "execution_count": 57,
   "id": "87cba2e2",
   "metadata": {},
   "outputs": [
    {
     "name": "stdout",
     "output_type": "stream",
     "text": [
      "Accuracy => 1.0\n",
      "Precision => 1.0\n",
      "F-1 score => 1.0\n",
      "Confusion matrix =>\n",
      " [[1917    0]\n",
      " [   0 1964]]\n",
      "Recall score 1.0\n"
     ]
    }
   ],
   "source": [
    "from sklearn.metrics import accuracy_score,precision_score,f1_score,confusion_matrix,recall_score\n",
    "print('Accuracy =>',accuracy_score(y_train,y_pred))\n",
    "print('Precision =>',precision_score(y_train,y_pred))\n",
    "print('F-1 score =>',f1_score(y_train,y_pred))\n",
    "print('Confusion matrix =>\\n',confusion_matrix(y_train,y_pred))\n",
    "print('Recall score',recall_score(y_train,y_pred))"
   ]
  },
  {
   "cell_type": "code",
   "execution_count": 58,
   "id": "3df7b906",
   "metadata": {},
   "outputs": [],
   "source": [
    "#### Test"
   ]
  },
  {
   "cell_type": "code",
   "execution_count": 62,
   "id": "d30539fc",
   "metadata": {},
   "outputs": [],
   "source": [
    "from sklearn.tree import DecisionTreeClassifier\n",
    "dtrc = DecisionTreeClassifier()\n",
    "dt.fit(X_train,y_train)\n",
    "y_pred = dt.predict(X_test)"
   ]
  },
  {
   "cell_type": "code",
   "execution_count": 63,
   "id": "95ef339f",
   "metadata": {},
   "outputs": [
    {
     "name": "stdout",
     "output_type": "stream",
     "text": [
      "Accuracy => 0.5509783728115345\n",
      "Precision => 0.5283842794759825\n",
      "F-1 score => 0.5260869565217391\n",
      "Confusion matrix =>\n",
      " [[293 216]\n",
      " [220 242]]\n",
      "Recall score 0.5238095238095238\n"
     ]
    }
   ],
   "source": [
    "print('Accuracy =>',accuracy_score(y_test,y_pred))\n",
    "print('Precision =>',precision_score(y_test,y_pred))\n",
    "print('F-1 score =>',f1_score(y_test,y_pred))\n",
    "print('Confusion matrix =>\\n',confusion_matrix(y_test,y_pred))\n",
    "print('Recall score',recall_score(y_test,y_pred))"
   ]
  },
  {
   "cell_type": "code",
   "execution_count": 64,
   "id": "1b958f86",
   "metadata": {},
   "outputs": [],
   "source": [
    "### AUC Curve"
   ]
  },
  {
   "cell_type": "code",
   "execution_count": 65,
   "id": "4d157c02",
   "metadata": {},
   "outputs": [
    {
     "data": {
      "text/plain": [
       "array([[1., 0.],\n",
       "       [0., 1.],\n",
       "       [0., 1.],\n",
       "       ...,\n",
       "       [1., 0.],\n",
       "       [0., 1.],\n",
       "       [1., 0.]])"
      ]
     },
     "execution_count": 65,
     "metadata": {},
     "output_type": "execute_result"
    }
   ],
   "source": [
    "y_pred_proba_dt = dt.predict_proba(X_test)\n",
    "y_pred_proba_dt"
   ]
  },
  {
   "cell_type": "code",
   "execution_count": 68,
   "id": "e84d4a41",
   "metadata": {},
   "outputs": [
    {
     "data": {
      "image/png": "[encoded data removed]",
      "text/plain": [
       "<Figure size 720x504 with 1 Axes>"
      ]
     },
     "metadata": {
      "needs_background": "light"
     },
     "output_type": "display_data"
    }
   ],
   "source": [
    "from sklearn.metrics import roc_curve,roc_auc_score\n",
    "\n",
    "plt.figure(figsize=(10,7))\n",
    "\n",
    "ns_prob = [0 for _ in range(len(y_test))] \n",
    "ns_fpr,ns_tpr,thresholds = roc_curve(y_test,ns_prob)\n",
    "\n",
    "dt_prob = y_pred_proba_dt[:,1]\n",
    "dt_auc = roc_auc_score(y_test,dt_prob)   \n",
    "dt_fpr,dt_tpr,thesholds = roc_curve(y_test,dt_prob)\n",
    "plt.plot(dt_fpr,dt_tpr,marker='.',label='Decision tree')\n",
    "plt.plot(ns_fpr,ns_tpr,marker='.',label='Bad Random Algo')\n",
    "plt.xlabel('False Positive Rate')\n",
    "plt.ylabel('True Positive Rate')\n",
    "plt.legend()\n",
    "plt.show()"
   ]
  },
  {
   "cell_type": "code",
   "execution_count": 70,
   "id": "9d737900",
   "metadata": {},
   "outputs": [
    {
     "name": "stdout",
     "output_type": "stream",
     "text": [
      "Decision Tree Accuracy is => 0.549724015342876\n"
     ]
    }
   ],
   "source": [
    "print(f'Decision Tree Accuracy is => {dt_auc}')\n"
   ]
  },
  {
   "cell_type": "markdown",
   "id": "c4f6f022",
   "metadata": {},
   "source": [
    "## Random Forest"
   ]
  },
  {
   "cell_type": "code",
   "execution_count": 71,
   "id": "ed9d8d71",
   "metadata": {},
   "outputs": [],
   "source": [
    "from sklearn.ensemble import RandomForestClassifier\n",
    "rfc = RandomForestClassifier()\n",
    "rfc.fit(X_train,y_train)\n",
    "y_pred = rfc.predict(X_train)"
   ]
  },
  {
   "cell_type": "code",
   "execution_count": 72,
   "id": "67cbb8ac",
   "metadata": {},
   "outputs": [
    {
     "name": "stdout",
     "output_type": "stream",
     "text": [
      "Accuracy => 1.0\n",
      "Precision => 1.0\n",
      "F-1 score => 1.0\n",
      "Confusion matrix =>\n",
      " [[1917    0]\n",
      " [   0 1964]]\n",
      "Recall score 1.0\n"
     ]
    }
   ],
   "source": [
    "from sklearn.metrics import accuracy_score,precision_score,f1_score,confusion_matrix,recall_score\n",
    "print('Accuracy =>',accuracy_score(y_train,y_pred))\n",
    "print('Precision =>',precision_score(y_train,y_pred))\n",
    "print('F-1 score =>',f1_score(y_train,y_pred))\n",
    "print('Confusion matrix =>\\n',confusion_matrix(y_train,y_pred))\n",
    "print('Recall score',recall_score(y_train,y_pred))"
   ]
  },
  {
   "cell_type": "code",
   "execution_count": 73,
   "id": "7e2228a0",
   "metadata": {},
   "outputs": [],
   "source": [
    "### test"
   ]
  },
  {
   "cell_type": "code",
   "execution_count": 74,
   "id": "a6d44d04",
   "metadata": {},
   "outputs": [],
   "source": [
    "from sklearn.ensemble import RandomForestClassifier\n",
    "rfc = RandomForestClassifier()\n",
    "rfc.fit(X_train,y_train)\n",
    "y_pred = rfc.predict(X_test)"
   ]
  },
  {
   "cell_type": "code",
   "execution_count": 75,
   "id": "00c0b8bc",
   "metadata": {},
   "outputs": [
    {
     "name": "stdout",
     "output_type": "stream",
     "text": [
      "Accuracy => 0.5345005149330587\n",
      "Precision => 0.5096899224806202\n",
      "F-1 score => 0.5378323108384458\n",
      "Confusion matrix =>\n",
      " [[256 253]\n",
      " [199 263]]\n",
      "Recall score 0.5692640692640693\n"
     ]
    }
   ],
   "source": [
    "print('Accuracy =>',accuracy_score(y_test,y_pred))\n",
    "print('Precision =>',precision_score(y_test,y_pred))\n",
    "print('F-1 score =>',f1_score(y_test,y_pred))\n",
    "print('Confusion matrix =>\\n',confusion_matrix(y_test,y_pred))\n",
    "print('Recall score',recall_score(y_test,y_pred))"
   ]
  },
  {
   "cell_type": "markdown",
   "id": "ae0b90ae",
   "metadata": {},
   "source": [
    "### AUC Curve"
   ]
  },
  {
   "cell_type": "code",
   "execution_count": 76,
   "id": "59a8adb4",
   "metadata": {},
   "outputs": [
    {
     "data": {
      "text/plain": [
       "array([[0.59, 0.41],\n",
       "       [0.1 , 0.9 ],\n",
       "       [0.27, 0.73],\n",
       "       ...,\n",
       "       [0.53, 0.47],\n",
       "       [0.39, 0.61],\n",
       "       [0.61, 0.39]])"
      ]
     },
     "execution_count": 76,
     "metadata": {},
     "output_type": "execute_result"
    }
   ],
   "source": [
    "y_pred_proba_rfc = rfc.predict_proba(X_test)\n",
    "y_pred_proba_rfc"
   ]
  },
  {
   "cell_type": "code",
   "execution_count": 77,
   "id": "996f9a49",
   "metadata": {},
   "outputs": [
    {
     "data": {
      "image/png": "[encoded data removed]",
      "text/plain": [
       "<Figure size 720x504 with 1 Axes>"
      ]
     },
     "metadata": {
      "needs_background": "light"
     },
     "output_type": "display_data"
    }
   ],
   "source": [
    "from sklearn.metrics import roc_curve,roc_auc_score\n",
    "\n",
    "plt.figure(figsize=(10,7))\n",
    "\n",
    "ns_prob = [0 for _ in range(len(y_test))]  \n",
    "ns_fpr,ns_tpr,thresholds = roc_curve(y_test,ns_prob)\n",
    "\n",
    "rfc_prob = y_pred_proba_rfc[:,1]\n",
    "rfc_auc = roc_auc_score(y_test,rfc_prob)   \n",
    "rfc_fpr,rfc_tpr,thesholds = roc_curve(y_test,rfc_prob)\n",
    "plt.plot(rfc_fpr,rfc_tpr,marker='.',label='Decision tree')\n",
    "plt.plot(ns_fpr,ns_tpr,marker='.',label='Bad Random Algo')\n",
    "plt.xlabel('False Positive Rate')\n",
    "plt.ylabel('True Positive Rate')\n",
    "plt.legend()\n",
    "plt.show()"
   ]
  },
  {
   "cell_type": "code",
   "execution_count": 78,
   "id": "22aedae2",
   "metadata": {},
   "outputs": [
    {
     "name": "stdout",
     "output_type": "stream",
     "text": [
      "Random Forest Accuracy is => 0.5600170948893936\n"
     ]
    }
   ],
   "source": [
    "print(f'Random Forest Accuracy is => {rfc_auc}')\n"
   ]
  },
  {
   "cell_type": "markdown",
   "id": "a504137c",
   "metadata": {},
   "source": [
    "## Gradient Boosting"
   ]
  },
  {
   "cell_type": "code",
   "execution_count": 79,
   "id": "8763c25a",
   "metadata": {},
   "outputs": [],
   "source": [
    "from sklearn.ensemble import GradientBoostingClassifier\n",
    "gbc = GradientBoostingClassifier()\n",
    "gbc.fit(X_train,y_train)\n",
    "y_pred = gbc.predict(X_train)"
   ]
  },
  {
   "cell_type": "code",
   "execution_count": 80,
   "id": "297c6b0e",
   "metadata": {},
   "outputs": [
    {
     "name": "stdout",
     "output_type": "stream",
     "text": [
      "Accuracy => 0.6766297346044834\n",
      "Precision => 0.6446348429212566\n",
      "F-1 score => 0.7157417893544733\n",
      "Confusion matrix =>\n",
      " [[1046  871]\n",
      " [ 384 1580]]\n",
      "Recall score 0.8044806517311609\n"
     ]
    }
   ],
   "source": [
    "from sklearn.metrics import accuracy_score,precision_score,f1_score,confusion_matrix,recall_score\n",
    "print('Accuracy =>',accuracy_score(y_train,y_pred))\n",
    "print('Precision =>',precision_score(y_train,y_pred))\n",
    "print('F-1 score =>',f1_score(y_train,y_pred))\n",
    "print('Confusion matrix =>\\n',confusion_matrix(y_train,y_pred))\n",
    "print('Recall score',recall_score(y_train,y_pred))"
   ]
  },
  {
   "cell_type": "code",
   "execution_count": 81,
   "id": "d9a1e099",
   "metadata": {},
   "outputs": [],
   "source": [
    "#### test"
   ]
  },
  {
   "cell_type": "code",
   "execution_count": 82,
   "id": "1dd36d40",
   "metadata": {},
   "outputs": [],
   "source": [
    "from sklearn.ensemble import GradientBoostingClassifier\n",
    "gbc = GradientBoostingClassifier()\n",
    "gbc.fit(X_train,y_train)\n",
    "y_pred = gbc.predict(X_test)"
   ]
  },
  {
   "cell_type": "code",
   "execution_count": 83,
   "id": "f64d4c42",
   "metadata": {},
   "outputs": [
    {
     "name": "stdout",
     "output_type": "stream",
     "text": [
      "Accuracy => 0.557157569515963\n",
      "Precision => 0.5269360269360269\n",
      "F-1 score => 0.5928030303030303\n",
      "Confusion matrix =>\n",
      " [[228 281]\n",
      " [149 313]]\n",
      "Recall score 0.6774891774891775\n"
     ]
    }
   ],
   "source": [
    "print('Accuracy =>',accuracy_score(y_test,y_pred))\n",
    "print('Precision =>',precision_score(y_test,y_pred))\n",
    "print('F-1 score =>',f1_score(y_test,y_pred))\n",
    "print('Confusion matrix =>\\n',confusion_matrix(y_test,y_pred))\n",
    "print('Recall score',recall_score(y_test,y_pred))"
   ]
  },
  {
   "cell_type": "code",
   "execution_count": 85,
   "id": "b0e4159f",
   "metadata": {},
   "outputs": [
    {
     "data": {
      "text/plain": [
       "array([[0.53039742, 0.46960258],\n",
       "       [0.24579743, 0.75420257],\n",
       "       [0.36209968, 0.63790032],\n",
       "       ...,\n",
       "       [0.44688755, 0.55311245],\n",
       "       [0.48457177, 0.51542823],\n",
       "       [0.80868011, 0.19131989]])"
      ]
     },
     "execution_count": 85,
     "metadata": {},
     "output_type": "execute_result"
    }
   ],
   "source": [
    "y_pred_proba_gbc = gbc.predict_proba(X_test)\n",
    "y_pred_proba_gbc"
   ]
  },
  {
   "cell_type": "code",
   "execution_count": 86,
   "id": "cae515e6",
   "metadata": {},
   "outputs": [
    {
     "data": {
      "image/png": "[encoded data removed]",
      "text/plain": [
       "<Figure size 720x504 with 1 Axes>"
      ]
     },
     "metadata": {
      "needs_background": "light"
     },
     "output_type": "display_data"
    }
   ],
   "source": [
    "from sklearn.metrics import roc_curve,roc_auc_score\n",
    "\n",
    "plt.figure(figsize=(10,7))\n",
    "\n",
    "ns_prob = [0 for _ in range(len(y_test))]  \n",
    "ns_fpr,ns_tpr,thresholds = roc_curve(y_test,ns_prob)\n",
    "\n",
    "gbc_prob = y_pred_proba_gbc[:,1]\n",
    "gbc_auc = roc_auc_score(y_test,gbc_prob)   \n",
    "gbc_fpr,gbc_tpr,thesholds = roc_curve(y_test,gbc_prob)\n",
    "plt.plot(gbc_fpr,gbc_tpr,marker='.',label='Gradient Boosting')\n",
    "plt.plot(ns_fpr,ns_tpr,marker='.',label='Bad Random Algo')\n",
    "plt.xlabel('False Positive Rate')\n",
    "plt.ylabel('True Positive Rate')\n",
    "plt.legend()\n",
    "plt.show()"
   ]
  },
  {
   "cell_type": "code",
   "execution_count": 87,
   "id": "4bfa14a3",
   "metadata": {},
   "outputs": [
    {
     "name": "stdout",
     "output_type": "stream",
     "text": [
      "Gradient Boosting AUC is => 0.5894994004031332\n"
     ]
    }
   ],
   "source": [
    "print(f'Gradient Boosting AUC is => {gbc_auc}')\n"
   ]
  },
  {
   "cell_type": "markdown",
   "id": "b95bbeec",
   "metadata": {},
   "source": [
    "## Ada Boost"
   ]
  },
  {
   "cell_type": "code",
   "execution_count": 88,
   "id": "55a8068c",
   "metadata": {},
   "outputs": [],
   "source": [
    "from sklearn.ensemble import AdaBoostClassifier\n",
    "abc = AdaBoostClassifier()\n",
    "abc.fit(X_train,y_train)\n",
    "y_pred = abc.predict(X_train)"
   ]
  },
  {
   "cell_type": "code",
   "execution_count": 89,
   "id": "dae2b7ec",
   "metadata": {},
   "outputs": [
    {
     "name": "stdout",
     "output_type": "stream",
     "text": [
      "Accuracy => 0.6031950528214378\n",
      "Precision => 0.5906757912745937\n",
      "F-1 score => 0.6420269642026964\n",
      "Confusion matrix =>\n",
      " [[ 960  957]\n",
      " [ 583 1381]]\n",
      "Recall score 0.7031568228105907\n"
     ]
    }
   ],
   "source": [
    "from sklearn.metrics import accuracy_score,precision_score,f1_score,confusion_matrix,recall_score\n",
    "print('Accuracy =>',accuracy_score(y_train,y_pred))\n",
    "print('Precision =>',precision_score(y_train,y_pred))\n",
    "print('F-1 score =>',f1_score(y_train,y_pred))\n",
    "print('Confusion matrix =>\\n',confusion_matrix(y_train,y_pred))\n",
    "print('Recall score',recall_score(y_train,y_pred))"
   ]
  },
  {
   "cell_type": "code",
   "execution_count": 90,
   "id": "15454946",
   "metadata": {},
   "outputs": [],
   "source": [
    "#### Test"
   ]
  },
  {
   "cell_type": "code",
   "execution_count": 91,
   "id": "c2f7ab68",
   "metadata": {},
   "outputs": [],
   "source": [
    "from sklearn.ensemble import AdaBoostClassifier\n",
    "abc = AdaBoostClassifier()\n",
    "abc.fit(X_train,y_train)\n",
    "y_pred = abc.predict(X_test)"
   ]
  },
  {
   "cell_type": "code",
   "execution_count": 92,
   "id": "d74931f3",
   "metadata": {
    "scrolled": true
   },
   "outputs": [
    {
     "name": "stdout",
     "output_type": "stream",
     "text": [
      "Accuracy => 0.5386199794026777\n",
      "Precision => 0.512589928057554\n",
      "F-1 score => 0.5599214145383105\n",
      "Confusion matrix =>\n",
      " [[238 271]\n",
      " [177 285]]\n",
      "Recall score 0.6168831168831169\n"
     ]
    }
   ],
   "source": [
    "print('Accuracy =>',accuracy_score(y_test,y_pred))\n",
    "print('Precision =>',precision_score(y_test,y_pred))\n",
    "print('F-1 score =>',f1_score(y_test,y_pred))\n",
    "print('Confusion matrix =>\\n',confusion_matrix(y_test,y_pred))\n",
    "print('Recall score',recall_score(y_test,y_pred))"
   ]
  },
  {
   "cell_type": "markdown",
   "id": "c5d77dd2",
   "metadata": {},
   "source": [
    "### AUC Curve"
   ]
  },
  {
   "cell_type": "code",
   "execution_count": 95,
   "id": "6aa43f3c",
   "metadata": {},
   "outputs": [
    {
     "data": {
      "text/plain": [
       "array([[0.49997109, 0.50002891],\n",
       "       [0.49654412, 0.50345588],\n",
       "       [0.49819914, 0.50180086],\n",
       "       ...,\n",
       "       [0.49964884, 0.50035116],\n",
       "       [0.50000412, 0.49999588],\n",
       "       [0.50639072, 0.49360928]])"
      ]
     },
     "execution_count": 95,
     "metadata": {},
     "output_type": "execute_result"
    }
   ],
   "source": [
    "y_pred_proba_abc = abc.predict_proba(X_test)\n",
    "y_pred_proba_abc\n"
   ]
  },
  {
   "cell_type": "code",
   "execution_count": 97,
   "id": "e1064d95",
   "metadata": {},
   "outputs": [
    {
     "data": {
      "image/png": "[encoded data removed]",
      "text/plain": [
       "<Figure size 720x504 with 1 Axes>"
      ]
     },
     "metadata": {
      "needs_background": "light"
     },
     "output_type": "display_data"
    }
   ],
   "source": [
    "from sklearn.metrics import roc_curve,roc_auc_score\n",
    "\n",
    "plt.figure(figsize=(10,7))\n",
    "\n",
    "ns_prob = [0 for _ in range(len(y_test))]  # bad algo\n",
    "ns_fpr,ns_tpr,thresholds = roc_curve(y_test,ns_prob)\n",
    "\n",
    "abc_prob = y_pred_proba_abc[:,1]\n",
    "abc_auc = roc_auc_score(y_test,abc_prob)   \n",
    "abc_fpr,abc_tpr,thesholds = roc_curve(y_test,abc_prob)\n",
    "plt.plot(abc_fpr,abc_tpr,marker='.',label='Ada Boost')\n",
    "plt.plot(ns_fpr,ns_tpr,marker='.',label='Bad Random Algo')\n",
    "plt.xlabel('False Positive Rate')\n",
    "plt.ylabel('True Positive Rate')\n",
    "plt.legend()\n",
    "plt.show()"
   ]
  },
  {
   "cell_type": "code",
   "execution_count": 98,
   "id": "0c7d70ee",
   "metadata": {},
   "outputs": [
    {
     "name": "stdout",
     "output_type": "stream",
     "text": [
      "Ada Boost AUC is => 0.5657494110342832\n"
     ]
    }
   ],
   "source": [
    "print(f'Ada Boost AUC is => {abc_auc}')\n"
   ]
  },
  {
   "cell_type": "code",
   "execution_count": null,
   "id": "cd5ae193",
   "metadata": {},
   "outputs": [],
   "source": []
  }
 ],
 "metadata": {
  "kernelspec": {
   "display_name": "Python 3 (ipykernel)",
   "language": "python",
   "name": "python3"
  },
  "language_info": {
   "codemirror_mode": {
    "name": "ipython",
    "version": 3
   },
   "file_extension": ".py",
   "mimetype": "text/x-python",
   "name": "python",
   "nbconvert_exporter": "python",
   "pygments_lexer": "ipython3",
   "version": "3.9.7"
  }
 },
 "nbformat": 4,
 "nbformat_minor": 5
}
